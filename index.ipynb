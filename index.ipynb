{
 "cells": [
  {
   "cell_type": "markdown",
   "metadata": {
    "pycharm": {
     "name": "#%% md\n"
    }
   },
   "source": [
    "# Pandas Data Cleaning - Cumulative Lab\n",
    "\n",
    "## Introduction\n",
    "In this lab, we'll make use of everything we've learned about pandas, data cleaning, and exploratory data analysis. In order to complete this lab, you'll have to import, clean, combine, reshape, and visualize data to answer questions provided, as well as your own questions!\n",
    "\n",
    "## Objectives\n",
    "You will be able to:\n",
    "- Practice opening and inspecting the contents of CSVs using pandas dataframes\n",
    "- Practice identifying and handling missing values\n",
    "- Practice identifying and handling invalid values\n",
    "- Practice cleaning text data by removing whitespace and fixing typos\n",
    "- Practice joining multiple dataframes"
   ]
  },
  {
   "cell_type": "markdown",
   "metadata": {
    "pycharm": {
     "name": "#%% md\n"
    }
   },
   "source": [
    "## Your Task: Clean the Superheroes Dataset with Pandas\n",
    "\n",
    "![LEGO superheroes](images/lego_superheroes.jpg)\n",
    "\n",
    "Photo by <a href=\"https://unsplash.com/@yuliamatvienko?utm_source=unsplash&utm_medium=referral&utm_content=creditCopyText\">Yulia Matvienko</a> on <a href=\"/s/photos/superhero?utm_source=unsplash&utm_medium=referral&utm_content=creditCopyText\">Unsplash</a>"
   ]
  },
  {
   "cell_type": "markdown",
   "metadata": {
    "pycharm": {
     "name": "#%% md\n"
    }
   },
   "source": [
    "### Data Understanding\n",
    "In this lab, we'll work with a version of the comprehensive Superheroes Dataset, which can be found on [Kaggle](https://www.kaggle.com/claudiodavi/superhero-set/data) and was originally scraped from [SuperHeroDb](https://www.superherodb.com/). We have modified the structure and contents of the dataset somewhat for the purposes of this lab.  Note that this data was collected in June 2017, so it may not reflect the most up-to-date superhero lore.\n",
    "\n",
    "The data is contained in two separate CSV files:\n",
    "\n",
    "1. `heroes_information.csv`: each record represents a superhero, with attributes of that superhero (e.g. eye color). Height is measured in centimeters, and weight is measured in pounds.\n",
    "2. `super_hero_powers.csv`: each record represents a superpower, then has True/False values representing whether each superhero has that power\n",
    "\n",
    "### Business Understanding\n",
    "\n",
    "The business questions you have been provided are:\n",
    "\n",
    "1. What is the distribution of superheroes by publisher?\n",
    "2. What is the relationship between height and number of superpowers? And does this differ based on gender?\n",
    "3. What are the 5 most common superpowers in Marvel Comics vs. DC Comics?\n",
    "\n",
    "This lab also simulates something you are likely to encounter at some point or another in your career in data science: someone has given you access to a dataset, as well as a few questions, and has told you to \"find something interesting\".\n",
    "\n",
    "So, in addition to completing the basic data cleaning tasks and the aggregation and reshaping tasks needed to answer the provided questions, you will also need to formulate a question of your own and perform any additional cleaning/aggregation/reshaping that is needed to answer it."
   ]
  },
  {
   "cell_type": "markdown",
   "metadata": {
    "pycharm": {
     "name": "#%% md\n"
    }
   },
   "source": [
    "### Requirements\n",
    "\n",
    "#### 1. Load the Data with Pandas\n",
    "\n",
    "Create a dataframes `heroes_df` and `powers_df` that represent the two CSV files. Use pandas methods to inspect the shape and other attributes of these dataframes.\n",
    "\n",
    "#### 2. Perform Data Cleaning Required to Answer First Question\n",
    "\n",
    "The first question is: *What is the distribution of superheroes by publisher?*\n",
    "\n",
    "In order to answer this question, you will need to:\n",
    "\n",
    "* Identify and handle missing values\n",
    "* Identify and handle text data requiring cleaning\n",
    "\n",
    "#### 3. Perform Data Aggregation and Cleaning Required to Answer Second Question\n",
    "\n",
    "The second question is: *What is the relationship between height and number of superpowers? And does this differ based on gender?*\n",
    "\n",
    "In order to answer this question, you will need to:\n",
    "\n",
    "* Join the dataframes together\n",
    "* Identify and handle invalid values\n",
    "\n",
    "#### 4. Perform Data Aggregation Required to Answer Third Question\n",
    "\n",
    "The third question is: *What are the 5 most common superpowers in Marvel Comics vs. DC Comics?*\n",
    "\n",
    "This should not require any additional data cleaning or joining of tables, but it will require some additional aggregation.\n",
    "\n",
    "#### 5. Formulate and Answer Your Own Question\n",
    "\n",
    "This part is fairly open-ended. Think of a question that can be answered with the available data, and perform any cleaning or aggregation required to answer that question."
   ]
  },
  {
   "cell_type": "markdown",
   "metadata": {
    "pycharm": {
     "name": "#%% md\n"
    }
   },
   "source": [
    "## 1. Load the Data with Pandas\n",
    "\n",
    "In the cell below, we:\n",
    "\n",
    "* Import and alias `pandas` as `pd`\n",
    "* Import and alias `numpy` as `np`\n",
    "* Import and alias `seaborn` as `sns`\n",
    "* Import and alias `matplotlib.pyplot` as `plt`\n",
    "* Set Matplotlib visualizations to display inline in the notebook"
   ]
  },
  {
   "cell_type": "code",
   "execution_count": 354,
   "metadata": {
    "pycharm": {
     "name": "#%%\n"
    }
   },
   "outputs": [],
   "source": [
    "# Run this cell without changes\n",
    "\n",
    "import pandas as pd\n",
    "import numpy as np\n",
    "import seaborn as sns\n",
    "import matplotlib.pyplot as plt\n",
    "%matplotlib inline"
   ]
  },
  {
   "cell_type": "markdown",
   "metadata": {
    "pycharm": {
     "name": "#%% md\n"
    }
   },
   "source": [
    "### Superheroes\n",
    "\n",
    "In the cell below, load `heroes_information.csv` as `heroes_df`:"
   ]
  },
  {
   "cell_type": "code",
   "execution_count": 355,
   "metadata": {
    "pycharm": {
     "name": "#%%\n"
    }
   },
   "outputs": [
    {
     "data": {
      "text/plain": "          name Gender Eye color               Race Hair color  Height  \\\n0       A-Bomb   Male    yellow              Human    No Hair   203.0   \n1   Abe Sapien   Male      blue      Icthyo Sapien    No Hair   191.0   \n2     Abin Sur   Male      blue            Ungaran    No Hair   185.0   \n3  Abomination   Male     green  Human / Radiation    No Hair   203.0   \n4      Abraxas   Male      blue      Cosmic Entity      Black   -99.0   \n\n           Publisher Skin color Alignment  Weight  \n0      Marvel Comics          -      good   441.0  \n1  Dark Horse Comics       blue      good    65.0  \n2          DC Comics        red      good    90.0  \n3      Marvel Comics          -       bad   441.0  \n4      Marvel Comics          -       bad   -99.0  ",
      "text/html": "<div>\n<style scoped>\n    .dataframe tbody tr th:only-of-type {\n        vertical-align: middle;\n    }\n\n    .dataframe tbody tr th {\n        vertical-align: top;\n    }\n\n    .dataframe thead th {\n        text-align: right;\n    }\n</style>\n<table border=\"1\" class=\"dataframe\">\n  <thead>\n    <tr style=\"text-align: right;\">\n      <th></th>\n      <th>name</th>\n      <th>Gender</th>\n      <th>Eye color</th>\n      <th>Race</th>\n      <th>Hair color</th>\n      <th>Height</th>\n      <th>Publisher</th>\n      <th>Skin color</th>\n      <th>Alignment</th>\n      <th>Weight</th>\n    </tr>\n  </thead>\n  <tbody>\n    <tr>\n      <th>0</th>\n      <td>A-Bomb</td>\n      <td>Male</td>\n      <td>yellow</td>\n      <td>Human</td>\n      <td>No Hair</td>\n      <td>203.0</td>\n      <td>Marvel Comics</td>\n      <td>-</td>\n      <td>good</td>\n      <td>441.0</td>\n    </tr>\n    <tr>\n      <th>1</th>\n      <td>Abe Sapien</td>\n      <td>Male</td>\n      <td>blue</td>\n      <td>Icthyo Sapien</td>\n      <td>No Hair</td>\n      <td>191.0</td>\n      <td>Dark Horse Comics</td>\n      <td>blue</td>\n      <td>good</td>\n      <td>65.0</td>\n    </tr>\n    <tr>\n      <th>2</th>\n      <td>Abin Sur</td>\n      <td>Male</td>\n      <td>blue</td>\n      <td>Ungaran</td>\n      <td>No Hair</td>\n      <td>185.0</td>\n      <td>DC Comics</td>\n      <td>red</td>\n      <td>good</td>\n      <td>90.0</td>\n    </tr>\n    <tr>\n      <th>3</th>\n      <td>Abomination</td>\n      <td>Male</td>\n      <td>green</td>\n      <td>Human / Radiation</td>\n      <td>No Hair</td>\n      <td>203.0</td>\n      <td>Marvel Comics</td>\n      <td>-</td>\n      <td>bad</td>\n      <td>441.0</td>\n    </tr>\n    <tr>\n      <th>4</th>\n      <td>Abraxas</td>\n      <td>Male</td>\n      <td>blue</td>\n      <td>Cosmic Entity</td>\n      <td>Black</td>\n      <td>-99.0</td>\n      <td>Marvel Comics</td>\n      <td>-</td>\n      <td>bad</td>\n      <td>-99.0</td>\n    </tr>\n  </tbody>\n</table>\n</div>"
     },
     "execution_count": 355,
     "metadata": {},
     "output_type": "execute_result"
    }
   ],
   "source": [
    "# Your code here\n",
    "heroes_df = pd.read_csv(\"heroes_information.csv\", index_col = 0)\n",
    "heroes_df.head()"
   ]
  },
  {
   "cell_type": "markdown",
   "metadata": {
    "pycharm": {
     "name": "#%% md\n"
    }
   },
   "source": [
    "It looks like that CSV came with an index column, resulting in an extra column called `Unnamed: 0`. We don't need that column, so write code to get rid of it below.\n",
    "\n",
    "There are two ways to do this:\n",
    "\n",
    "1. Re-load with `read_csv`, and specify the parameter `index_col=0`\n",
    "2. Drop the column `Unnamed: 0` with `axis=1`"
   ]
  },
  {
   "cell_type": "code",
   "execution_count": 356,
   "metadata": {
    "pycharm": {
     "name": "#%%\n"
    }
   },
   "outputs": [
    {
     "data": {
      "text/plain": "          name Gender Eye color               Race Hair color  Height  \\\n0       A-Bomb   Male    yellow              Human    No Hair   203.0   \n1   Abe Sapien   Male      blue      Icthyo Sapien    No Hair   191.0   \n2     Abin Sur   Male      blue            Ungaran    No Hair   185.0   \n3  Abomination   Male     green  Human / Radiation    No Hair   203.0   \n4      Abraxas   Male      blue      Cosmic Entity      Black   -99.0   \n\n           Publisher Skin color Alignment  Weight  \n0      Marvel Comics          -      good   441.0  \n1  Dark Horse Comics       blue      good    65.0  \n2          DC Comics        red      good    90.0  \n3      Marvel Comics          -       bad   441.0  \n4      Marvel Comics          -       bad   -99.0  ",
      "text/html": "<div>\n<style scoped>\n    .dataframe tbody tr th:only-of-type {\n        vertical-align: middle;\n    }\n\n    .dataframe tbody tr th {\n        vertical-align: top;\n    }\n\n    .dataframe thead th {\n        text-align: right;\n    }\n</style>\n<table border=\"1\" class=\"dataframe\">\n  <thead>\n    <tr style=\"text-align: right;\">\n      <th></th>\n      <th>name</th>\n      <th>Gender</th>\n      <th>Eye color</th>\n      <th>Race</th>\n      <th>Hair color</th>\n      <th>Height</th>\n      <th>Publisher</th>\n      <th>Skin color</th>\n      <th>Alignment</th>\n      <th>Weight</th>\n    </tr>\n  </thead>\n  <tbody>\n    <tr>\n      <th>0</th>\n      <td>A-Bomb</td>\n      <td>Male</td>\n      <td>yellow</td>\n      <td>Human</td>\n      <td>No Hair</td>\n      <td>203.0</td>\n      <td>Marvel Comics</td>\n      <td>-</td>\n      <td>good</td>\n      <td>441.0</td>\n    </tr>\n    <tr>\n      <th>1</th>\n      <td>Abe Sapien</td>\n      <td>Male</td>\n      <td>blue</td>\n      <td>Icthyo Sapien</td>\n      <td>No Hair</td>\n      <td>191.0</td>\n      <td>Dark Horse Comics</td>\n      <td>blue</td>\n      <td>good</td>\n      <td>65.0</td>\n    </tr>\n    <tr>\n      <th>2</th>\n      <td>Abin Sur</td>\n      <td>Male</td>\n      <td>blue</td>\n      <td>Ungaran</td>\n      <td>No Hair</td>\n      <td>185.0</td>\n      <td>DC Comics</td>\n      <td>red</td>\n      <td>good</td>\n      <td>90.0</td>\n    </tr>\n    <tr>\n      <th>3</th>\n      <td>Abomination</td>\n      <td>Male</td>\n      <td>green</td>\n      <td>Human / Radiation</td>\n      <td>No Hair</td>\n      <td>203.0</td>\n      <td>Marvel Comics</td>\n      <td>-</td>\n      <td>bad</td>\n      <td>441.0</td>\n    </tr>\n    <tr>\n      <th>4</th>\n      <td>Abraxas</td>\n      <td>Male</td>\n      <td>blue</td>\n      <td>Cosmic Entity</td>\n      <td>Black</td>\n      <td>-99.0</td>\n      <td>Marvel Comics</td>\n      <td>-</td>\n      <td>bad</td>\n      <td>-99.0</td>\n    </tr>\n  </tbody>\n</table>\n</div>"
     },
     "execution_count": 356,
     "metadata": {},
     "output_type": "execute_result"
    }
   ],
   "source": [
    "# Your code here\n",
    "\n",
    "heroes_df.head()"
   ]
  },
  {
   "cell_type": "markdown",
   "metadata": {
    "pycharm": {
     "name": "#%% md\n"
    }
   },
   "source": [
    "The following code checks that the dataframe was loaded correctly."
   ]
  },
  {
   "cell_type": "code",
   "execution_count": 357,
   "metadata": {
    "pycharm": {
     "name": "#%%\n"
    }
   },
   "outputs": [],
   "source": [
    "# Run this cell without changes\n",
    "\n",
    "# There should be 734 rows\n",
    "assert heroes_df.shape[0] == 734\n",
    "\n",
    "# There should be 10 columns. If this fails, make sure you got rid of\n",
    "# the extra index column\n",
    "assert heroes_df.shape[1] == 10\n",
    "\n",
    "# These should be the columns\n",
    "assert list(heroes_df.columns) == ['name', 'Gender', 'Eye color', 'Race',\n",
    " 'Hair color', 'Height', 'Publisher', 'Skin color', 'Alignment', 'Weight']"
   ]
  },
  {
   "cell_type": "markdown",
   "metadata": {
    "pycharm": {
     "name": "#%% md\n"
    }
   },
   "source": [
    "Now you want to get familiar with the data.  This step includes:\n",
    "\n",
    "* Understanding the dimensionality of your dataset\n",
    "* Investigating what type of data it contains, and the data types used to store it\n",
    "* Discovering how missing values are encoded, and how many there are\n",
    "* Getting a feel for what information it does and doesn't contain\n",
    "\n",
    "In the cell below, inspect the overall shape of the dataframe:"
   ]
  },
  {
   "cell_type": "code",
   "execution_count": 358,
   "metadata": {
    "pycharm": {
     "name": "#%%\n"
    }
   },
   "outputs": [
    {
     "data": {
      "text/plain": "(734, 10)"
     },
     "execution_count": 358,
     "metadata": {},
     "output_type": "execute_result"
    }
   ],
   "source": [
    "heroes_df.shape"
   ]
  },
  {
   "cell_type": "markdown",
   "metadata": {
    "pycharm": {
     "name": "#%% md\n"
    }
   },
   "source": [
    "Now let's look at the info printout:"
   ]
  },
  {
   "cell_type": "code",
   "execution_count": 359,
   "metadata": {
    "pycharm": {
     "name": "#%%\n"
    }
   },
   "outputs": [
    {
     "name": "stdout",
     "output_type": "stream",
     "text": [
      "<class 'pandas.core.frame.DataFrame'>\n",
      "Int64Index: 734 entries, 0 to 733\n",
      "Data columns (total 10 columns):\n",
      " #   Column      Non-Null Count  Dtype  \n",
      "---  ------      --------------  -----  \n",
      " 0   name        734 non-null    object \n",
      " 1   Gender      734 non-null    object \n",
      " 2   Eye color   734 non-null    object \n",
      " 3   Race        734 non-null    object \n",
      " 4   Hair color  734 non-null    object \n",
      " 5   Height      734 non-null    float64\n",
      " 6   Publisher   719 non-null    object \n",
      " 7   Skin color  734 non-null    object \n",
      " 8   Alignment   734 non-null    object \n",
      " 9   Weight      732 non-null    float64\n",
      "dtypes: float64(2), object(8)\n",
      "memory usage: 63.1+ KB\n"
     ]
    }
   ],
   "source": [
    "# Run this cell without changes\n",
    "heroes_df.info()"
   ]
  },
  {
   "cell_type": "markdown",
   "metadata": {
    "pycharm": {
     "name": "#%% md\n"
    }
   },
   "source": [
    "In the cell below, interpret that information. Do the data types line up with what we expect? Are there any missing values?"
   ]
  },
  {
   "cell_type": "code",
   "execution_count": 360,
   "metadata": {
    "pycharm": {
     "name": "#%%\n"
    }
   },
   "outputs": [
    {
     "data": {
      "text/plain": "'\\nThe data types height and weight are both int64 objects which does lighn up with my expectations. There are however 15 null values in Publisher and 2 in the weight column.\\n'"
     },
     "execution_count": 360,
     "metadata": {},
     "output_type": "execute_result"
    }
   ],
   "source": [
    "# Replace None with appropriate text\n",
    "\"\"\"\n",
    "The data types height and weight are both int64 objects which does lighn up with my expectations. There are however 15 null values in Publisher and 2 in the weight column.\n",
    "\"\"\""
   ]
  },
  {
   "cell_type": "markdown",
   "metadata": {
    "pycharm": {
     "name": "#%% md\n"
    }
   },
   "source": [
    "### Superpowers\n",
    "\n",
    "Now, repeat the same process with `super_hero_powers.csv`. Name the dataframe `powers_df`. This time, make sure you use `index_col=0` when opening the CSV because the index contains important information."
   ]
  },
  {
   "cell_type": "code",
   "execution_count": 361,
   "metadata": {
    "pycharm": {
     "name": "#%%\n"
    }
   },
   "outputs": [
    {
     "data": {
      "text/plain": "                       3-D Man  A-Bomb  Abe Sapien  Abin Sur  Abomination  \\\nAgility                   True   False        True     False        False   \nAccelerated Healing      False    True        True     False         True   \nLantern Power Ring       False   False       False      True        False   \nDimensional Awareness    False   False       False     False        False   \nCold Resistance          False   False        True     False        False   \n...                        ...     ...         ...       ...          ...   \nPhoenix Force            False   False       False     False        False   \nMolecular Dissipation    False   False       False     False        False   \nVision - Cryo            False   False       False     False        False   \nOmnipresent              False   False       False     False        False   \nOmniscient               False   False       False     False        False   \n\n                       Abraxas  Absorbing Man  Adam Monroe  Adam Strange  \\\nAgility                  False          False        False         False   \nAccelerated Healing      False          False         True         False   \nLantern Power Ring       False          False        False         False   \nDimensional Awareness     True          False        False         False   \nCold Resistance          False           True        False         False   \n...                        ...            ...          ...           ...   \nPhoenix Force            False          False        False         False   \nMolecular Dissipation    False          False        False         False   \nVision - Cryo            False          False        False         False   \nOmnipresent              False          False        False         False   \nOmniscient               False          False        False         False   \n\n                       Agent Bob  ...  Wonder Man  Wonder Woman   X-23  X-Man  \\\nAgility                    False  ...       False         False   True  False   \nAccelerated Healing        False  ...       False          True   True  False   \nLantern Power Ring         False  ...       False         False  False  False   \nDimensional Awareness      False  ...       False         False  False  False   \nCold Resistance            False  ...       False         False  False  False   \n...                          ...  ...         ...           ...    ...    ...   \nPhoenix Force              False  ...       False         False  False  False   \nMolecular Dissipation      False  ...       False         False  False  False   \nVision - Cryo              False  ...       False         False  False  False   \nOmnipresent                False  ...       False         False  False  False   \nOmniscient                 False  ...       False         False  False  False   \n\n                       Yellowjacket  Yellowjacket II   Ymir   Yoda  Zatanna  \\\nAgility                       False            False  False   True    False   \nAccelerated Healing           False            False  False  False    False   \nLantern Power Ring            False            False  False  False    False   \nDimensional Awareness         False            False  False  False    False   \nCold Resistance               False            False   True  False    False   \n...                             ...              ...    ...    ...      ...   \nPhoenix Force                 False            False  False  False    False   \nMolecular Dissipation         False            False  False  False    False   \nVision - Cryo                 False            False  False  False    False   \nOmnipresent                   False            False  False  False    False   \nOmniscient                    False            False  False  False    False   \n\n                        Zoom  \nAgility                False  \nAccelerated Healing    False  \nLantern Power Ring     False  \nDimensional Awareness  False  \nCold Resistance        False  \n...                      ...  \nPhoenix Force          False  \nMolecular Dissipation  False  \nVision - Cryo          False  \nOmnipresent            False  \nOmniscient             False  \n\n[167 rows x 667 columns]",
      "text/html": "<div>\n<style scoped>\n    .dataframe tbody tr th:only-of-type {\n        vertical-align: middle;\n    }\n\n    .dataframe tbody tr th {\n        vertical-align: top;\n    }\n\n    .dataframe thead th {\n        text-align: right;\n    }\n</style>\n<table border=\"1\" class=\"dataframe\">\n  <thead>\n    <tr style=\"text-align: right;\">\n      <th></th>\n      <th>3-D Man</th>\n      <th>A-Bomb</th>\n      <th>Abe Sapien</th>\n      <th>Abin Sur</th>\n      <th>Abomination</th>\n      <th>Abraxas</th>\n      <th>Absorbing Man</th>\n      <th>Adam Monroe</th>\n      <th>Adam Strange</th>\n      <th>Agent Bob</th>\n      <th>...</th>\n      <th>Wonder Man</th>\n      <th>Wonder Woman</th>\n      <th>X-23</th>\n      <th>X-Man</th>\n      <th>Yellowjacket</th>\n      <th>Yellowjacket II</th>\n      <th>Ymir</th>\n      <th>Yoda</th>\n      <th>Zatanna</th>\n      <th>Zoom</th>\n    </tr>\n  </thead>\n  <tbody>\n    <tr>\n      <th>Agility</th>\n      <td>True</td>\n      <td>False</td>\n      <td>True</td>\n      <td>False</td>\n      <td>False</td>\n      <td>False</td>\n      <td>False</td>\n      <td>False</td>\n      <td>False</td>\n      <td>False</td>\n      <td>...</td>\n      <td>False</td>\n      <td>False</td>\n      <td>True</td>\n      <td>False</td>\n      <td>False</td>\n      <td>False</td>\n      <td>False</td>\n      <td>True</td>\n      <td>False</td>\n      <td>False</td>\n    </tr>\n    <tr>\n      <th>Accelerated Healing</th>\n      <td>False</td>\n      <td>True</td>\n      <td>True</td>\n      <td>False</td>\n      <td>True</td>\n      <td>False</td>\n      <td>False</td>\n      <td>True</td>\n      <td>False</td>\n      <td>False</td>\n      <td>...</td>\n      <td>False</td>\n      <td>True</td>\n      <td>True</td>\n      <td>False</td>\n      <td>False</td>\n      <td>False</td>\n      <td>False</td>\n      <td>False</td>\n      <td>False</td>\n      <td>False</td>\n    </tr>\n    <tr>\n      <th>Lantern Power Ring</th>\n      <td>False</td>\n      <td>False</td>\n      <td>False</td>\n      <td>True</td>\n      <td>False</td>\n      <td>False</td>\n      <td>False</td>\n      <td>False</td>\n      <td>False</td>\n      <td>False</td>\n      <td>...</td>\n      <td>False</td>\n      <td>False</td>\n      <td>False</td>\n      <td>False</td>\n      <td>False</td>\n      <td>False</td>\n      <td>False</td>\n      <td>False</td>\n      <td>False</td>\n      <td>False</td>\n    </tr>\n    <tr>\n      <th>Dimensional Awareness</th>\n      <td>False</td>\n      <td>False</td>\n      <td>False</td>\n      <td>False</td>\n      <td>False</td>\n      <td>True</td>\n      <td>False</td>\n      <td>False</td>\n      <td>False</td>\n      <td>False</td>\n      <td>...</td>\n      <td>False</td>\n      <td>False</td>\n      <td>False</td>\n      <td>False</td>\n      <td>False</td>\n      <td>False</td>\n      <td>False</td>\n      <td>False</td>\n      <td>False</td>\n      <td>False</td>\n    </tr>\n    <tr>\n      <th>Cold Resistance</th>\n      <td>False</td>\n      <td>False</td>\n      <td>True</td>\n      <td>False</td>\n      <td>False</td>\n      <td>False</td>\n      <td>True</td>\n      <td>False</td>\n      <td>False</td>\n      <td>False</td>\n      <td>...</td>\n      <td>False</td>\n      <td>False</td>\n      <td>False</td>\n      <td>False</td>\n      <td>False</td>\n      <td>False</td>\n      <td>True</td>\n      <td>False</td>\n      <td>False</td>\n      <td>False</td>\n    </tr>\n    <tr>\n      <th>...</th>\n      <td>...</td>\n      <td>...</td>\n      <td>...</td>\n      <td>...</td>\n      <td>...</td>\n      <td>...</td>\n      <td>...</td>\n      <td>...</td>\n      <td>...</td>\n      <td>...</td>\n      <td>...</td>\n      <td>...</td>\n      <td>...</td>\n      <td>...</td>\n      <td>...</td>\n      <td>...</td>\n      <td>...</td>\n      <td>...</td>\n      <td>...</td>\n      <td>...</td>\n      <td>...</td>\n    </tr>\n    <tr>\n      <th>Phoenix Force</th>\n      <td>False</td>\n      <td>False</td>\n      <td>False</td>\n      <td>False</td>\n      <td>False</td>\n      <td>False</td>\n      <td>False</td>\n      <td>False</td>\n      <td>False</td>\n      <td>False</td>\n      <td>...</td>\n      <td>False</td>\n      <td>False</td>\n      <td>False</td>\n      <td>False</td>\n      <td>False</td>\n      <td>False</td>\n      <td>False</td>\n      <td>False</td>\n      <td>False</td>\n      <td>False</td>\n    </tr>\n    <tr>\n      <th>Molecular Dissipation</th>\n      <td>False</td>\n      <td>False</td>\n      <td>False</td>\n      <td>False</td>\n      <td>False</td>\n      <td>False</td>\n      <td>False</td>\n      <td>False</td>\n      <td>False</td>\n      <td>False</td>\n      <td>...</td>\n      <td>False</td>\n      <td>False</td>\n      <td>False</td>\n      <td>False</td>\n      <td>False</td>\n      <td>False</td>\n      <td>False</td>\n      <td>False</td>\n      <td>False</td>\n      <td>False</td>\n    </tr>\n    <tr>\n      <th>Vision - Cryo</th>\n      <td>False</td>\n      <td>False</td>\n      <td>False</td>\n      <td>False</td>\n      <td>False</td>\n      <td>False</td>\n      <td>False</td>\n      <td>False</td>\n      <td>False</td>\n      <td>False</td>\n      <td>...</td>\n      <td>False</td>\n      <td>False</td>\n      <td>False</td>\n      <td>False</td>\n      <td>False</td>\n      <td>False</td>\n      <td>False</td>\n      <td>False</td>\n      <td>False</td>\n      <td>False</td>\n    </tr>\n    <tr>\n      <th>Omnipresent</th>\n      <td>False</td>\n      <td>False</td>\n      <td>False</td>\n      <td>False</td>\n      <td>False</td>\n      <td>False</td>\n      <td>False</td>\n      <td>False</td>\n      <td>False</td>\n      <td>False</td>\n      <td>...</td>\n      <td>False</td>\n      <td>False</td>\n      <td>False</td>\n      <td>False</td>\n      <td>False</td>\n      <td>False</td>\n      <td>False</td>\n      <td>False</td>\n      <td>False</td>\n      <td>False</td>\n    </tr>\n    <tr>\n      <th>Omniscient</th>\n      <td>False</td>\n      <td>False</td>\n      <td>False</td>\n      <td>False</td>\n      <td>False</td>\n      <td>False</td>\n      <td>False</td>\n      <td>False</td>\n      <td>False</td>\n      <td>False</td>\n      <td>...</td>\n      <td>False</td>\n      <td>False</td>\n      <td>False</td>\n      <td>False</td>\n      <td>False</td>\n      <td>False</td>\n      <td>False</td>\n      <td>False</td>\n      <td>False</td>\n      <td>False</td>\n    </tr>\n  </tbody>\n</table>\n<p>167 rows × 667 columns</p>\n</div>"
     },
     "execution_count": 361,
     "metadata": {},
     "output_type": "execute_result"
    }
   ],
   "source": [
    "# Your code here (create more cells as needed)\n",
    "\n",
    "powers_df = pd.read_csv(\"super_hero_powers.csv\", index_col= 0 )\n",
    "\n",
    "powers_df"
   ]
  },
  {
   "cell_type": "markdown",
   "metadata": {
    "pycharm": {
     "name": "#%% md\n"
    }
   },
   "source": [
    "The following code will check if it was loaded correctly:"
   ]
  },
  {
   "cell_type": "code",
   "execution_count": 362,
   "metadata": {
    "pycharm": {
     "name": "#%%\n"
    }
   },
   "outputs": [],
   "source": [
    "# Run this cell without changes\n",
    "\n",
    "# There should be 167 rows, 667 columns\n",
    "assert powers_df.shape == (167, 667)\n",
    "\n",
    "# The first column should be '3-D Man'\n",
    "assert powers_df.columns[0] == '3-D Man'\n",
    "\n",
    "# The last column should be 'Zoom'\n",
    "assert powers_df.columns[-1] == 'Zoom'\n",
    "\n",
    "# The first index should be 'Agility'\n",
    "assert powers_df.index[0] == 'Agility'\n",
    "\n",
    "# The last index should be 'Omniscient'\n",
    "assert powers_df.index[-1] == 'Omniscient'"
   ]
  },
  {
   "cell_type": "markdown",
   "metadata": {
    "pycharm": {
     "name": "#%% md\n"
    }
   },
   "source": [
    "## 2. Perform Data Cleaning Required to Answer First Question\n",
    "\n",
    "Recall that the first question is: *What is the distribution of superheroes by publisher?*\n",
    "\n",
    "To answer this question, we will only need to use `heroes_df`, which contains the `Publisher` column.\n",
    "\n",
    "### Identifying and Handling Missing Values\n",
    "\n",
    "As you likely noted above, the `Publisher` column is missing some values. Let's take a look at some samples with and without missing publisher values:"
   ]
  },
  {
   "cell_type": "code",
   "execution_count": 363,
   "metadata": {
    "pycharm": {
     "name": "#%%\n"
    }
   },
   "outputs": [
    {
     "data": {
      "text/plain": "           name  Gender Eye color   Race        Hair color  Height  \\\n60      Banshee    Male     green  Human  Strawberry Blond   183.0   \n61       Bantam    Male     brown      -             Black   165.0   \n219  DL Hawkins    Male         -      -                 -   -99.0   \n650       Synch    Male     brown      -             Black   180.0   \n8      Agent 13  Female      blue      -             Blond   173.0   \n\n         Publisher Skin color Alignment  Weight  \n60   Marvel Comics          -      good    77.0  \n61   Marvel Comics          -      good    54.0  \n219   NBC - Heroes          -      good   -99.0  \n650  Marvel Comics          -      good    74.0  \n8    Marvel Comics          -      good    61.0  ",
      "text/html": "<div>\n<style scoped>\n    .dataframe tbody tr th:only-of-type {\n        vertical-align: middle;\n    }\n\n    .dataframe tbody tr th {\n        vertical-align: top;\n    }\n\n    .dataframe thead th {\n        text-align: right;\n    }\n</style>\n<table border=\"1\" class=\"dataframe\">\n  <thead>\n    <tr style=\"text-align: right;\">\n      <th></th>\n      <th>name</th>\n      <th>Gender</th>\n      <th>Eye color</th>\n      <th>Race</th>\n      <th>Hair color</th>\n      <th>Height</th>\n      <th>Publisher</th>\n      <th>Skin color</th>\n      <th>Alignment</th>\n      <th>Weight</th>\n    </tr>\n  </thead>\n  <tbody>\n    <tr>\n      <th>60</th>\n      <td>Banshee</td>\n      <td>Male</td>\n      <td>green</td>\n      <td>Human</td>\n      <td>Strawberry Blond</td>\n      <td>183.0</td>\n      <td>Marvel Comics</td>\n      <td>-</td>\n      <td>good</td>\n      <td>77.0</td>\n    </tr>\n    <tr>\n      <th>61</th>\n      <td>Bantam</td>\n      <td>Male</td>\n      <td>brown</td>\n      <td>-</td>\n      <td>Black</td>\n      <td>165.0</td>\n      <td>Marvel Comics</td>\n      <td>-</td>\n      <td>good</td>\n      <td>54.0</td>\n    </tr>\n    <tr>\n      <th>219</th>\n      <td>DL Hawkins</td>\n      <td>Male</td>\n      <td>-</td>\n      <td>-</td>\n      <td>-</td>\n      <td>-99.0</td>\n      <td>NBC - Heroes</td>\n      <td>-</td>\n      <td>good</td>\n      <td>-99.0</td>\n    </tr>\n    <tr>\n      <th>650</th>\n      <td>Synch</td>\n      <td>Male</td>\n      <td>brown</td>\n      <td>-</td>\n      <td>Black</td>\n      <td>180.0</td>\n      <td>Marvel Comics</td>\n      <td>-</td>\n      <td>good</td>\n      <td>74.0</td>\n    </tr>\n    <tr>\n      <th>8</th>\n      <td>Agent 13</td>\n      <td>Female</td>\n      <td>blue</td>\n      <td>-</td>\n      <td>Blond</td>\n      <td>173.0</td>\n      <td>Marvel Comics</td>\n      <td>-</td>\n      <td>good</td>\n      <td>61.0</td>\n    </tr>\n  </tbody>\n</table>\n</div>"
     },
     "execution_count": 363,
     "metadata": {},
     "output_type": "execute_result"
    }
   ],
   "source": [
    "# Run this cell without changes\n",
    "has_publisher_sample = heroes_df[heroes_df[\"Publisher\"].notna()].sample(5, random_state=1)\n",
    "has_publisher_sample"
   ]
  },
  {
   "cell_type": "code",
   "execution_count": 364,
   "metadata": {
    "pycharm": {
     "name": "#%%\n"
    }
   },
   "outputs": [
    {
     "data": {
      "text/plain": "                 name  Gender Eye color    Race Hair color  Height Publisher  \\\n175      Chuck Norris    Male         -       -          -   178.0       NaN   \n286          Godzilla       -         -   Kaiju          -   108.0       NaN   \n263      Flash Gordon    Male         -       -          -   -99.0       NaN   \n138        Brundlefly    Male         -  Mutant          -   193.0       NaN   \n381  Katniss Everdeen  Female         -   Human          -   -99.0       NaN   \n\n    Skin color Alignment  Weight  \n175          -      good   -99.0  \n286       grey       bad     NaN  \n263          -      good   -99.0  \n138          -         -   -99.0  \n381          -      good   -99.0  ",
      "text/html": "<div>\n<style scoped>\n    .dataframe tbody tr th:only-of-type {\n        vertical-align: middle;\n    }\n\n    .dataframe tbody tr th {\n        vertical-align: top;\n    }\n\n    .dataframe thead th {\n        text-align: right;\n    }\n</style>\n<table border=\"1\" class=\"dataframe\">\n  <thead>\n    <tr style=\"text-align: right;\">\n      <th></th>\n      <th>name</th>\n      <th>Gender</th>\n      <th>Eye color</th>\n      <th>Race</th>\n      <th>Hair color</th>\n      <th>Height</th>\n      <th>Publisher</th>\n      <th>Skin color</th>\n      <th>Alignment</th>\n      <th>Weight</th>\n    </tr>\n  </thead>\n  <tbody>\n    <tr>\n      <th>175</th>\n      <td>Chuck Norris</td>\n      <td>Male</td>\n      <td>-</td>\n      <td>-</td>\n      <td>-</td>\n      <td>178.0</td>\n      <td>NaN</td>\n      <td>-</td>\n      <td>good</td>\n      <td>-99.0</td>\n    </tr>\n    <tr>\n      <th>286</th>\n      <td>Godzilla</td>\n      <td>-</td>\n      <td>-</td>\n      <td>Kaiju</td>\n      <td>-</td>\n      <td>108.0</td>\n      <td>NaN</td>\n      <td>grey</td>\n      <td>bad</td>\n      <td>NaN</td>\n    </tr>\n    <tr>\n      <th>263</th>\n      <td>Flash Gordon</td>\n      <td>Male</td>\n      <td>-</td>\n      <td>-</td>\n      <td>-</td>\n      <td>-99.0</td>\n      <td>NaN</td>\n      <td>-</td>\n      <td>good</td>\n      <td>-99.0</td>\n    </tr>\n    <tr>\n      <th>138</th>\n      <td>Brundlefly</td>\n      <td>Male</td>\n      <td>-</td>\n      <td>Mutant</td>\n      <td>-</td>\n      <td>193.0</td>\n      <td>NaN</td>\n      <td>-</td>\n      <td>-</td>\n      <td>-99.0</td>\n    </tr>\n    <tr>\n      <th>381</th>\n      <td>Katniss Everdeen</td>\n      <td>Female</td>\n      <td>-</td>\n      <td>Human</td>\n      <td>-</td>\n      <td>-99.0</td>\n      <td>NaN</td>\n      <td>-</td>\n      <td>good</td>\n      <td>-99.0</td>\n    </tr>\n  </tbody>\n</table>\n</div>"
     },
     "execution_count": 364,
     "metadata": {},
     "output_type": "execute_result"
    }
   ],
   "source": [
    "# Run this cell without changes\n",
    "missing_publisher_sample = heroes_df[heroes_df[\"Publisher\"].isna()].sample(5, random_state=1)\n",
    "missing_publisher_sample"
   ]
  },
  {
   "cell_type": "markdown",
   "metadata": {
    "pycharm": {
     "name": "#%% md\n"
    }
   },
   "source": [
    "What do we want to do about these missing values?\n",
    "\n",
    "Recall that there are two general strategies for dealing with missing values:\n",
    "\n",
    "1. Fill in missing values (either using another value from the column, e.g. the mean or mode, or using some other value like \"Unknown\")\n",
    "2. Drop rows with missing values\n",
    "\n",
    "Write your answer below, and explain how it relates to the information we have:"
   ]
  },
  {
   "cell_type": "code",
   "execution_count": 365,
   "metadata": {
    "pycharm": {
     "name": "#%%\n"
    }
   },
   "outputs": [
    {
     "data": {
      "text/plain": "\"\\nBecause the Publisher column is not numerical I don't think that we can use the mena or mode here. Instead I would either drop these columns are keep them as Nan values\\n\""
     },
     "execution_count": 365,
     "metadata": {},
     "output_type": "execute_result"
    }
   ],
   "source": [
    "# Replace None with appropriate text\n",
    "\"\"\"\n",
    "Because the Publisher column is not numerical I don't think that we can use the mena or mode here. Instead I would either drop these columns are keep them as Nan values\n",
    "\"\"\""
   ]
  },
  {
   "cell_type": "markdown",
   "metadata": {
    "pycharm": {
     "name": "#%% md\n"
    }
   },
   "source": [
    "Now, implement your chosen strategy using code. (You can also check the solution branch for the answer to the question above if you're really not sure.)"
   ]
  },
  {
   "cell_type": "code",
   "execution_count": 366,
   "metadata": {
    "pycharm": {
     "name": "#%%\n"
    }
   },
   "outputs": [],
   "source": [
    "heroes_df.dropna(subset = [\"Publisher\"], inplace = True)"
   ]
  },
  {
   "cell_type": "markdown",
   "metadata": {
    "pycharm": {
     "name": "#%% md\n"
    }
   },
   "source": [
    "Now there should be no missing values in the publisher column:"
   ]
  },
  {
   "cell_type": "code",
   "execution_count": 367,
   "metadata": {
    "pycharm": {
     "name": "#%%\n"
    }
   },
   "outputs": [],
   "source": [
    "# Run this cell without changes\n",
    "assert heroes_df[\"Publisher\"].isna().sum() == 0"
   ]
  },
  {
   "cell_type": "markdown",
   "metadata": {
    "pycharm": {
     "name": "#%% md\n"
    }
   },
   "source": [
    "### Identifying and Handling Text Data Requiring Cleaning\n",
    "\n",
    "The overall field of natural language processing (NLP) is quite broad, and we're not going to get into any advanced text processing, but it's useful to be able to clean up minor issues in text data.\n",
    "\n",
    "Let's take a look at the counts of heroes grouped by publisher:"
   ]
  },
  {
   "cell_type": "code",
   "execution_count": 368,
   "metadata": {
    "pycharm": {
     "name": "#%%\n"
    }
   },
   "outputs": [
    {
     "data": {
      "text/plain": "Marvel Comics        379\nDC Comics            212\nNBC - Heroes          19\nDark Horse Comics     18\nGeorge Lucas          14\nImage Comics          14\nMarvel                 9\nHarperCollins          6\nStar Trek              6\nSyFy                   5\nTeam Epic TV           5\nABC Studios            4\nShueisha               4\nIcon Comics            4\nIDW Publishing         4\n DC Comics             3\nWildstorm              3\nSony Pictures          2\nSouth Park             1\nJ. K. Rowling          1\nHanna-Barbera          1\nJ. R. R. Tolkien       1\nRebellion              1\nMicrosoft              1\nUniversal Studios      1\nTitan Books            1\nName: Publisher, dtype: int64"
     },
     "execution_count": 368,
     "metadata": {},
     "output_type": "execute_result"
    }
   ],
   "source": [
    "# Run this cell without changes\n",
    "heroes_df[\"Publisher\"].value_counts()"
   ]
  },
  {
   "cell_type": "markdown",
   "metadata": {
    "pycharm": {
     "name": "#%% md\n"
    }
   },
   "source": [
    "There are two cases where we appear to have data entry issues, and publishers that should be encoded the same have not been. In other words, there are four categories present that really should be counted as two categories (and you do not need specific comic book knowledge to be able to identify them).\n",
    "\n",
    "Identify those two cases below:"
   ]
  },
  {
   "cell_type": "code",
   "execution_count": 369,
   "metadata": {
    "pycharm": {
     "name": "#%%\n"
    }
   },
   "outputs": [
    {
     "data": {
      "text/plain": "'\\nDC Comics is listed as DC and DC comics and Marvel Comics is listed as Marvel and Marvel Comics.\\n'"
     },
     "execution_count": 369,
     "metadata": {},
     "output_type": "execute_result"
    }
   ],
   "source": [
    "# Replace None with appropriate text\n",
    "\"\"\"\n",
    "DC Comics is listed as DC and DC comics and Marvel Comics is listed as Marvel and Marvel Comics.\n",
    "\"\"\""
   ]
  },
  {
   "cell_type": "markdown",
   "metadata": {
    "pycharm": {
     "name": "#%% md\n"
    }
   },
   "source": [
    "Now, write some code to handle these cases. If you're not sure where to start, look at the pandas documentation for [replacing values](https://pandas.pydata.org/pandas-docs/stable/reference/api/pandas.Series.replace.html) and [stripping off whitespace](https://pandas.pydata.org/pandas-docs/stable/reference/api/pandas.Series.str.strip.html)."
   ]
  },
  {
   "cell_type": "code",
   "execution_count": 370,
   "metadata": {
    "pycharm": {
     "name": "#%%\n"
    }
   },
   "outputs": [],
   "source": [
    "heroes_df.replace(to_replace=\"Marvel\", value=\"Marvel Comics\", inplace=True)\n",
    "heroes_df.replace(to_replace=\" DC Comics\", value=\"DC Comics\", inplace=True)"
   ]
  },
  {
   "cell_type": "markdown",
   "metadata": {
    "pycharm": {
     "name": "#%% md\n"
    }
   },
   "source": [
    "Check your work below:"
   ]
  },
  {
   "cell_type": "code",
   "execution_count": 371,
   "metadata": {
    "pycharm": {
     "name": "#%%\n"
    }
   },
   "outputs": [
    {
     "data": {
      "text/plain": "Marvel Comics        388\nDC Comics            215\nNBC - Heroes          19\nDark Horse Comics     18\nGeorge Lucas          14\nImage Comics          14\nHarperCollins          6\nStar Trek              6\nTeam Epic TV           5\nSyFy                   5\nIcon Comics            4\nShueisha               4\nIDW Publishing         4\nABC Studios            4\nWildstorm              3\nSony Pictures          2\nSouth Park             1\nJ. K. Rowling          1\nHanna-Barbera          1\nJ. R. R. Tolkien       1\nTitan Books            1\nMicrosoft              1\nUniversal Studios      1\nRebellion              1\nName: Publisher, dtype: int64"
     },
     "execution_count": 371,
     "metadata": {},
     "output_type": "execute_result"
    }
   ],
   "source": [
    "# Run this cell without changes\n",
    "heroes_df[\"Publisher\"].value_counts()"
   ]
  },
  {
   "cell_type": "markdown",
   "metadata": {
    "pycharm": {
     "name": "#%% md\n"
    }
   },
   "source": [
    "### Answering the Question\n",
    "\n",
    "Now we should be able to answer *What is the distribution of superheroes by publisher?*\n",
    "\n",
    "If your data cleaning was done correctly, this code should work without any further changes:"
   ]
  },
  {
   "cell_type": "code",
   "execution_count": 372,
   "metadata": {
    "pycharm": {
     "name": "#%%\n"
    }
   },
   "outputs": [
    {
     "data": {
      "text/plain": "<Figure size 1152x360 with 2 Axes>",
      "image/png": "[encoded data removed]"
     },
     "metadata": {
      "needs_background": "light"
     },
     "output_type": "display_data"
    }
   ],
   "source": [
    "# Run this cell without changes\n",
    "\n",
    "# Set up plots\n",
    "fig, (ax1, ax2) = plt.subplots(ncols=2, figsize=(16, 5))\n",
    "\n",
    "# Create variables for easier reuse\n",
    "value_counts = heroes_df[\"Publisher\"].value_counts()\n",
    "top_5_counts = value_counts.iloc[:5]\n",
    "\n",
    "# Plot data\n",
    "ax1.bar(value_counts.index, value_counts.values)\n",
    "ax2.bar(top_5_counts.index, top_5_counts.values)\n",
    "\n",
    "# Customize appearance\n",
    "ax1.tick_params(axis=\"x\", labelrotation=90)\n",
    "ax2.tick_params(axis=\"x\", labelrotation=45)\n",
    "ax1.set_ylabel(\"Count of Superheroes\")\n",
    "ax2.set_ylabel(\"Count of Superheroes\")\n",
    "ax1.set_title(\"Distribution of Superheroes by Publisher\")\n",
    "ax2.set_title(\"Top 5 Publishers by Count of Superheroes\");"
   ]
  },
  {
   "cell_type": "markdown",
   "metadata": {
    "pycharm": {
     "name": "#%% md\n"
    }
   },
   "source": [
    "## 3. Perform Data Aggregation and Cleaning Required to Answer Second Question\n",
    "\n",
    "Recall that the second question is: *What is the relationship between height and number of superpowers? And does this differ based on gender?*\n",
    "\n",
    "Unlike the previous question, we won't be able to answer this with just `heroes_df`, since information about height is contained in `heroes_df`, while information about superpowers is contained in `powers_df`.\n",
    "\n",
    "### Joining the Dataframes Together\n",
    "\n",
    "First, identify the shared key between `heroes_df` and `powers_df`. (Shared key meaning, the values you want to join on.) Let's look at them again:"
   ]
  },
  {
   "cell_type": "code",
   "execution_count": 373,
   "metadata": {
    "pycharm": {
     "name": "#%%\n"
    }
   },
   "outputs": [
    {
     "data": {
      "text/plain": "                 Gender Eye color               Race        Hair color  \\\nname                                                                     \nA-Bomb             Male    yellow              Human           No Hair   \nAbe Sapien         Male      blue      Icthyo Sapien           No Hair   \nAbin Sur           Male      blue            Ungaran           No Hair   \nAbomination        Male     green  Human / Radiation           No Hair   \nAbraxas            Male      blue      Cosmic Entity             Black   \n...                 ...       ...                ...               ...   \nYellowjacket II  Female      blue              Human  Strawberry Blond   \nYmir               Male     white        Frost Giant           No Hair   \nYoda               Male     brown     Yoda's species             White   \nZatanna          Female      blue              Human             Black   \nZoom               Male       red                  -             Brown   \n\n                 Height          Publisher Skin color Alignment  Weight  \nname                                                                     \nA-Bomb            203.0      Marvel Comics          -      good   441.0  \nAbe Sapien        191.0  Dark Horse Comics       blue      good    65.0  \nAbin Sur          185.0          DC Comics        red      good    90.0  \nAbomination       203.0      Marvel Comics          -       bad   441.0  \nAbraxas           -99.0      Marvel Comics          -       bad   -99.0  \n...                 ...                ...        ...       ...     ...  \nYellowjacket II   165.0      Marvel Comics          -      good    52.0  \nYmir              304.8      Marvel Comics      white      good   -99.0  \nYoda               66.0       George Lucas      green      good    17.0  \nZatanna           170.0          DC Comics          -      good    57.0  \nZoom              185.0          DC Comics          -       bad    81.0  \n\n[719 rows x 9 columns]",
      "text/html": "<div>\n<style scoped>\n    .dataframe tbody tr th:only-of-type {\n        vertical-align: middle;\n    }\n\n    .dataframe tbody tr th {\n        vertical-align: top;\n    }\n\n    .dataframe thead th {\n        text-align: right;\n    }\n</style>\n<table border=\"1\" class=\"dataframe\">\n  <thead>\n    <tr style=\"text-align: right;\">\n      <th></th>\n      <th>Gender</th>\n      <th>Eye color</th>\n      <th>Race</th>\n      <th>Hair color</th>\n      <th>Height</th>\n      <th>Publisher</th>\n      <th>Skin color</th>\n      <th>Alignment</th>\n      <th>Weight</th>\n    </tr>\n    <tr>\n      <th>name</th>\n      <th></th>\n      <th></th>\n      <th></th>\n      <th></th>\n      <th></th>\n      <th></th>\n      <th></th>\n      <th></th>\n      <th></th>\n    </tr>\n  </thead>\n  <tbody>\n    <tr>\n      <th>A-Bomb</th>\n      <td>Male</td>\n      <td>yellow</td>\n      <td>Human</td>\n      <td>No Hair</td>\n      <td>203.0</td>\n      <td>Marvel Comics</td>\n      <td>-</td>\n      <td>good</td>\n      <td>441.0</td>\n    </tr>\n    <tr>\n      <th>Abe Sapien</th>\n      <td>Male</td>\n      <td>blue</td>\n      <td>Icthyo Sapien</td>\n      <td>No Hair</td>\n      <td>191.0</td>\n      <td>Dark Horse Comics</td>\n      <td>blue</td>\n      <td>good</td>\n      <td>65.0</td>\n    </tr>\n    <tr>\n      <th>Abin Sur</th>\n      <td>Male</td>\n      <td>blue</td>\n      <td>Ungaran</td>\n      <td>No Hair</td>\n      <td>185.0</td>\n      <td>DC Comics</td>\n      <td>red</td>\n      <td>good</td>\n      <td>90.0</td>\n    </tr>\n    <tr>\n      <th>Abomination</th>\n      <td>Male</td>\n      <td>green</td>\n      <td>Human / Radiation</td>\n      <td>No Hair</td>\n      <td>203.0</td>\n      <td>Marvel Comics</td>\n      <td>-</td>\n      <td>bad</td>\n      <td>441.0</td>\n    </tr>\n    <tr>\n      <th>Abraxas</th>\n      <td>Male</td>\n      <td>blue</td>\n      <td>Cosmic Entity</td>\n      <td>Black</td>\n      <td>-99.0</td>\n      <td>Marvel Comics</td>\n      <td>-</td>\n      <td>bad</td>\n      <td>-99.0</td>\n    </tr>\n    <tr>\n      <th>...</th>\n      <td>...</td>\n      <td>...</td>\n      <td>...</td>\n      <td>...</td>\n      <td>...</td>\n      <td>...</td>\n      <td>...</td>\n      <td>...</td>\n      <td>...</td>\n    </tr>\n    <tr>\n      <th>Yellowjacket II</th>\n      <td>Female</td>\n      <td>blue</td>\n      <td>Human</td>\n      <td>Strawberry Blond</td>\n      <td>165.0</td>\n      <td>Marvel Comics</td>\n      <td>-</td>\n      <td>good</td>\n      <td>52.0</td>\n    </tr>\n    <tr>\n      <th>Ymir</th>\n      <td>Male</td>\n      <td>white</td>\n      <td>Frost Giant</td>\n      <td>No Hair</td>\n      <td>304.8</td>\n      <td>Marvel Comics</td>\n      <td>white</td>\n      <td>good</td>\n      <td>-99.0</td>\n    </tr>\n    <tr>\n      <th>Yoda</th>\n      <td>Male</td>\n      <td>brown</td>\n      <td>Yoda's species</td>\n      <td>White</td>\n      <td>66.0</td>\n      <td>George Lucas</td>\n      <td>green</td>\n      <td>good</td>\n      <td>17.0</td>\n    </tr>\n    <tr>\n      <th>Zatanna</th>\n      <td>Female</td>\n      <td>blue</td>\n      <td>Human</td>\n      <td>Black</td>\n      <td>170.0</td>\n      <td>DC Comics</td>\n      <td>-</td>\n      <td>good</td>\n      <td>57.0</td>\n    </tr>\n    <tr>\n      <th>Zoom</th>\n      <td>Male</td>\n      <td>red</td>\n      <td>-</td>\n      <td>Brown</td>\n      <td>185.0</td>\n      <td>DC Comics</td>\n      <td>-</td>\n      <td>bad</td>\n      <td>81.0</td>\n    </tr>\n  </tbody>\n</table>\n<p>719 rows × 9 columns</p>\n</div>"
     },
     "execution_count": 373,
     "metadata": {},
     "output_type": "execute_result"
    }
   ],
   "source": [
    "# Run this cell without changes\n",
    "heroes_df.set_index(\"name\")"
   ]
  },
  {
   "cell_type": "code",
   "execution_count": 374,
   "outputs": [
    {
     "data": {
      "text/plain": "                       3-D Man  A-Bomb  Abe Sapien  Abin Sur  Abomination  \\\nAgility                   True   False        True     False        False   \nAccelerated Healing      False    True        True     False         True   \nLantern Power Ring       False   False       False      True        False   \nDimensional Awareness    False   False       False     False        False   \nCold Resistance          False   False        True     False        False   \n...                        ...     ...         ...       ...          ...   \nPhoenix Force            False   False       False     False        False   \nMolecular Dissipation    False   False       False     False        False   \nVision - Cryo            False   False       False     False        False   \nOmnipresent              False   False       False     False        False   \nOmniscient               False   False       False     False        False   \n\n                       Abraxas  Absorbing Man  Adam Monroe  Adam Strange  \\\nAgility                  False          False        False         False   \nAccelerated Healing      False          False         True         False   \nLantern Power Ring       False          False        False         False   \nDimensional Awareness     True          False        False         False   \nCold Resistance          False           True        False         False   \n...                        ...            ...          ...           ...   \nPhoenix Force            False          False        False         False   \nMolecular Dissipation    False          False        False         False   \nVision - Cryo            False          False        False         False   \nOmnipresent              False          False        False         False   \nOmniscient               False          False        False         False   \n\n                       Agent Bob  ...  Wonder Man  Wonder Woman   X-23  X-Man  \\\nAgility                    False  ...       False         False   True  False   \nAccelerated Healing        False  ...       False          True   True  False   \nLantern Power Ring         False  ...       False         False  False  False   \nDimensional Awareness      False  ...       False         False  False  False   \nCold Resistance            False  ...       False         False  False  False   \n...                          ...  ...         ...           ...    ...    ...   \nPhoenix Force              False  ...       False         False  False  False   \nMolecular Dissipation      False  ...       False         False  False  False   \nVision - Cryo              False  ...       False         False  False  False   \nOmnipresent                False  ...       False         False  False  False   \nOmniscient                 False  ...       False         False  False  False   \n\n                       Yellowjacket  Yellowjacket II   Ymir   Yoda  Zatanna  \\\nAgility                       False            False  False   True    False   \nAccelerated Healing           False            False  False  False    False   \nLantern Power Ring            False            False  False  False    False   \nDimensional Awareness         False            False  False  False    False   \nCold Resistance               False            False   True  False    False   \n...                             ...              ...    ...    ...      ...   \nPhoenix Force                 False            False  False  False    False   \nMolecular Dissipation         False            False  False  False    False   \nVision - Cryo                 False            False  False  False    False   \nOmnipresent                   False            False  False  False    False   \nOmniscient                    False            False  False  False    False   \n\n                        Zoom  \nAgility                False  \nAccelerated Healing    False  \nLantern Power Ring     False  \nDimensional Awareness  False  \nCold Resistance        False  \n...                      ...  \nPhoenix Force          False  \nMolecular Dissipation  False  \nVision - Cryo          False  \nOmnipresent            False  \nOmniscient             False  \n\n[167 rows x 667 columns]",
      "text/html": "<div>\n<style scoped>\n    .dataframe tbody tr th:only-of-type {\n        vertical-align: middle;\n    }\n\n    .dataframe tbody tr th {\n        vertical-align: top;\n    }\n\n    .dataframe thead th {\n        text-align: right;\n    }\n</style>\n<table border=\"1\" class=\"dataframe\">\n  <thead>\n    <tr style=\"text-align: right;\">\n      <th></th>\n      <th>3-D Man</th>\n      <th>A-Bomb</th>\n      <th>Abe Sapien</th>\n      <th>Abin Sur</th>\n      <th>Abomination</th>\n      <th>Abraxas</th>\n      <th>Absorbing Man</th>\n      <th>Adam Monroe</th>\n      <th>Adam Strange</th>\n      <th>Agent Bob</th>\n      <th>...</th>\n      <th>Wonder Man</th>\n      <th>Wonder Woman</th>\n      <th>X-23</th>\n      <th>X-Man</th>\n      <th>Yellowjacket</th>\n      <th>Yellowjacket II</th>\n      <th>Ymir</th>\n      <th>Yoda</th>\n      <th>Zatanna</th>\n      <th>Zoom</th>\n    </tr>\n  </thead>\n  <tbody>\n    <tr>\n      <th>Agility</th>\n      <td>True</td>\n      <td>False</td>\n      <td>True</td>\n      <td>False</td>\n      <td>False</td>\n      <td>False</td>\n      <td>False</td>\n      <td>False</td>\n      <td>False</td>\n      <td>False</td>\n      <td>...</td>\n      <td>False</td>\n      <td>False</td>\n      <td>True</td>\n      <td>False</td>\n      <td>False</td>\n      <td>False</td>\n      <td>False</td>\n      <td>True</td>\n      <td>False</td>\n      <td>False</td>\n    </tr>\n    <tr>\n      <th>Accelerated Healing</th>\n      <td>False</td>\n      <td>True</td>\n      <td>True</td>\n      <td>False</td>\n      <td>True</td>\n      <td>False</td>\n      <td>False</td>\n      <td>True</td>\n      <td>False</td>\n      <td>False</td>\n      <td>...</td>\n      <td>False</td>\n      <td>True</td>\n      <td>True</td>\n      <td>False</td>\n      <td>False</td>\n      <td>False</td>\n      <td>False</td>\n      <td>False</td>\n      <td>False</td>\n      <td>False</td>\n    </tr>\n    <tr>\n      <th>Lantern Power Ring</th>\n      <td>False</td>\n      <td>False</td>\n      <td>False</td>\n      <td>True</td>\n      <td>False</td>\n      <td>False</td>\n      <td>False</td>\n      <td>False</td>\n      <td>False</td>\n      <td>False</td>\n      <td>...</td>\n      <td>False</td>\n      <td>False</td>\n      <td>False</td>\n      <td>False</td>\n      <td>False</td>\n      <td>False</td>\n      <td>False</td>\n      <td>False</td>\n      <td>False</td>\n      <td>False</td>\n    </tr>\n    <tr>\n      <th>Dimensional Awareness</th>\n      <td>False</td>\n      <td>False</td>\n      <td>False</td>\n      <td>False</td>\n      <td>False</td>\n      <td>True</td>\n      <td>False</td>\n      <td>False</td>\n      <td>False</td>\n      <td>False</td>\n      <td>...</td>\n      <td>False</td>\n      <td>False</td>\n      <td>False</td>\n      <td>False</td>\n      <td>False</td>\n      <td>False</td>\n      <td>False</td>\n      <td>False</td>\n      <td>False</td>\n      <td>False</td>\n    </tr>\n    <tr>\n      <th>Cold Resistance</th>\n      <td>False</td>\n      <td>False</td>\n      <td>True</td>\n      <td>False</td>\n      <td>False</td>\n      <td>False</td>\n      <td>True</td>\n      <td>False</td>\n      <td>False</td>\n      <td>False</td>\n      <td>...</td>\n      <td>False</td>\n      <td>False</td>\n      <td>False</td>\n      <td>False</td>\n      <td>False</td>\n      <td>False</td>\n      <td>True</td>\n      <td>False</td>\n      <td>False</td>\n      <td>False</td>\n    </tr>\n    <tr>\n      <th>...</th>\n      <td>...</td>\n      <td>...</td>\n      <td>...</td>\n      <td>...</td>\n      <td>...</td>\n      <td>...</td>\n      <td>...</td>\n      <td>...</td>\n      <td>...</td>\n      <td>...</td>\n      <td>...</td>\n      <td>...</td>\n      <td>...</td>\n      <td>...</td>\n      <td>...</td>\n      <td>...</td>\n      <td>...</td>\n      <td>...</td>\n      <td>...</td>\n      <td>...</td>\n      <td>...</td>\n    </tr>\n    <tr>\n      <th>Phoenix Force</th>\n      <td>False</td>\n      <td>False</td>\n      <td>False</td>\n      <td>False</td>\n      <td>False</td>\n      <td>False</td>\n      <td>False</td>\n      <td>False</td>\n      <td>False</td>\n      <td>False</td>\n      <td>...</td>\n      <td>False</td>\n      <td>False</td>\n      <td>False</td>\n      <td>False</td>\n      <td>False</td>\n      <td>False</td>\n      <td>False</td>\n      <td>False</td>\n      <td>False</td>\n      <td>False</td>\n    </tr>\n    <tr>\n      <th>Molecular Dissipation</th>\n      <td>False</td>\n      <td>False</td>\n      <td>False</td>\n      <td>False</td>\n      <td>False</td>\n      <td>False</td>\n      <td>False</td>\n      <td>False</td>\n      <td>False</td>\n      <td>False</td>\n      <td>...</td>\n      <td>False</td>\n      <td>False</td>\n      <td>False</td>\n      <td>False</td>\n      <td>False</td>\n      <td>False</td>\n      <td>False</td>\n      <td>False</td>\n      <td>False</td>\n      <td>False</td>\n    </tr>\n    <tr>\n      <th>Vision - Cryo</th>\n      <td>False</td>\n      <td>False</td>\n      <td>False</td>\n      <td>False</td>\n      <td>False</td>\n      <td>False</td>\n      <td>False</td>\n      <td>False</td>\n      <td>False</td>\n      <td>False</td>\n      <td>...</td>\n      <td>False</td>\n      <td>False</td>\n      <td>False</td>\n      <td>False</td>\n      <td>False</td>\n      <td>False</td>\n      <td>False</td>\n      <td>False</td>\n      <td>False</td>\n      <td>False</td>\n    </tr>\n    <tr>\n      <th>Omnipresent</th>\n      <td>False</td>\n      <td>False</td>\n      <td>False</td>\n      <td>False</td>\n      <td>False</td>\n      <td>False</td>\n      <td>False</td>\n      <td>False</td>\n      <td>False</td>\n      <td>False</td>\n      <td>...</td>\n      <td>False</td>\n      <td>False</td>\n      <td>False</td>\n      <td>False</td>\n      <td>False</td>\n      <td>False</td>\n      <td>False</td>\n      <td>False</td>\n      <td>False</td>\n      <td>False</td>\n    </tr>\n    <tr>\n      <th>Omniscient</th>\n      <td>False</td>\n      <td>False</td>\n      <td>False</td>\n      <td>False</td>\n      <td>False</td>\n      <td>False</td>\n      <td>False</td>\n      <td>False</td>\n      <td>False</td>\n      <td>False</td>\n      <td>...</td>\n      <td>False</td>\n      <td>False</td>\n      <td>False</td>\n      <td>False</td>\n      <td>False</td>\n      <td>False</td>\n      <td>False</td>\n      <td>False</td>\n      <td>False</td>\n      <td>False</td>\n    </tr>\n  </tbody>\n</table>\n<p>167 rows × 667 columns</p>\n</div>"
     },
     "execution_count": 374,
     "metadata": {},
     "output_type": "execute_result"
    }
   ],
   "source": [
    "powers_df"
   ],
   "metadata": {
    "collapsed": false,
    "pycharm": {
     "name": "#%%\n"
    }
   }
  },
  {
   "cell_type": "code",
   "execution_count": 375,
   "metadata": {
    "pycharm": {
     "name": "#%%\n"
    }
   },
   "outputs": [
    {
     "data": {
      "text/plain": "                 Agility  Accelerated Healing  Lantern Power Ring  \\\n3-D Man             True                False               False   \nA-Bomb             False                 True               False   \nAbe Sapien          True                 True               False   \nAbin Sur           False                False                True   \nAbomination        False                 True               False   \n...                  ...                  ...                 ...   \nYellowjacket II    False                False               False   \nYmir               False                False               False   \nYoda                True                False               False   \nZatanna            False                False               False   \nZoom               False                False               False   \n\n                 Dimensional Awareness  Cold Resistance  Durability  Stealth  \\\n3-D Man                          False            False       False    False   \nA-Bomb                           False            False        True    False   \nAbe Sapien                       False             True        True    False   \nAbin Sur                         False            False       False    False   \nAbomination                      False            False       False    False   \n...                                ...              ...         ...      ...   \nYellowjacket II                  False            False       False    False   \nYmir                             False             True        True    False   \nYoda                             False            False       False     True   \nZatanna                          False            False       False    False   \nZoom                             False            False       False    False   \n\n                 Energy Absorption  Flight  Danger Sense  ...  \\\n3-D Man                      False   False         False  ...   \nA-Bomb                       False   False         False  ...   \nAbe Sapien                   False   False         False  ...   \nAbin Sur                     False   False         False  ...   \nAbomination                  False   False         False  ...   \n...                            ...     ...           ...  ...   \nYellowjacket II              False    True         False  ...   \nYmir                         False   False         False  ...   \nYoda                         False   False          True  ...   \nZatanna                      False   False         False  ...   \nZoom                         False   False         False  ...   \n\n                 Reality Warping  Odin Force  Symbiote Costume  Speed Force  \\\n3-D Man                    False       False             False        False   \nA-Bomb                     False       False             False        False   \nAbe Sapien                 False       False             False        False   \nAbin Sur                   False       False             False        False   \nAbomination                False       False             False        False   \n...                          ...         ...               ...          ...   \nYellowjacket II            False       False             False        False   \nYmir                       False       False             False        False   \nYoda                       False       False             False        False   \nZatanna                    False       False             False        False   \nZoom                       False       False             False        False   \n\n                 Phoenix Force  Molecular Dissipation  Vision - Cryo  \\\n3-D Man                  False                  False          False   \nA-Bomb                   False                  False          False   \nAbe Sapien               False                  False          False   \nAbin Sur                 False                  False          False   \nAbomination              False                  False          False   \n...                        ...                    ...            ...   \nYellowjacket II          False                  False          False   \nYmir                     False                  False          False   \nYoda                     False                  False          False   \nZatanna                  False                  False          False   \nZoom                     False                  False          False   \n\n                 Omnipresent  Omniscient             name  \n3-D Man                False       False          3-D Man  \nA-Bomb                 False       False           A-Bomb  \nAbe Sapien             False       False       Abe Sapien  \nAbin Sur               False       False         Abin Sur  \nAbomination            False       False      Abomination  \n...                      ...         ...              ...  \nYellowjacket II        False       False  Yellowjacket II  \nYmir                   False       False             Ymir  \nYoda                   False       False             Yoda  \nZatanna                False       False          Zatanna  \nZoom                   False       False             Zoom  \n\n[667 rows x 168 columns]",
      "text/html": "<div>\n<style scoped>\n    .dataframe tbody tr th:only-of-type {\n        vertical-align: middle;\n    }\n\n    .dataframe tbody tr th {\n        vertical-align: top;\n    }\n\n    .dataframe thead th {\n        text-align: right;\n    }\n</style>\n<table border=\"1\" class=\"dataframe\">\n  <thead>\n    <tr style=\"text-align: right;\">\n      <th></th>\n      <th>Agility</th>\n      <th>Accelerated Healing</th>\n      <th>Lantern Power Ring</th>\n      <th>Dimensional Awareness</th>\n      <th>Cold Resistance</th>\n      <th>Durability</th>\n      <th>Stealth</th>\n      <th>Energy Absorption</th>\n      <th>Flight</th>\n      <th>Danger Sense</th>\n      <th>...</th>\n      <th>Reality Warping</th>\n      <th>Odin Force</th>\n      <th>Symbiote Costume</th>\n      <th>Speed Force</th>\n      <th>Phoenix Force</th>\n      <th>Molecular Dissipation</th>\n      <th>Vision - Cryo</th>\n      <th>Omnipresent</th>\n      <th>Omniscient</th>\n      <th>name</th>\n    </tr>\n  </thead>\n  <tbody>\n    <tr>\n      <th>3-D Man</th>\n      <td>True</td>\n      <td>False</td>\n      <td>False</td>\n      <td>False</td>\n      <td>False</td>\n      <td>False</td>\n      <td>False</td>\n      <td>False</td>\n      <td>False</td>\n      <td>False</td>\n      <td>...</td>\n      <td>False</td>\n      <td>False</td>\n      <td>False</td>\n      <td>False</td>\n      <td>False</td>\n      <td>False</td>\n      <td>False</td>\n      <td>False</td>\n      <td>False</td>\n      <td>3-D Man</td>\n    </tr>\n    <tr>\n      <th>A-Bomb</th>\n      <td>False</td>\n      <td>True</td>\n      <td>False</td>\n      <td>False</td>\n      <td>False</td>\n      <td>True</td>\n      <td>False</td>\n      <td>False</td>\n      <td>False</td>\n      <td>False</td>\n      <td>...</td>\n      <td>False</td>\n      <td>False</td>\n      <td>False</td>\n      <td>False</td>\n      <td>False</td>\n      <td>False</td>\n      <td>False</td>\n      <td>False</td>\n      <td>False</td>\n      <td>A-Bomb</td>\n    </tr>\n    <tr>\n      <th>Abe Sapien</th>\n      <td>True</td>\n      <td>True</td>\n      <td>False</td>\n      <td>False</td>\n      <td>True</td>\n      <td>True</td>\n      <td>False</td>\n      <td>False</td>\n      <td>False</td>\n      <td>False</td>\n      <td>...</td>\n      <td>False</td>\n      <td>False</td>\n      <td>False</td>\n      <td>False</td>\n      <td>False</td>\n      <td>False</td>\n      <td>False</td>\n      <td>False</td>\n      <td>False</td>\n      <td>Abe Sapien</td>\n    </tr>\n    <tr>\n      <th>Abin Sur</th>\n      <td>False</td>\n      <td>False</td>\n      <td>True</td>\n      <td>False</td>\n      <td>False</td>\n      <td>False</td>\n      <td>False</td>\n      <td>False</td>\n      <td>False</td>\n      <td>False</td>\n      <td>...</td>\n      <td>False</td>\n      <td>False</td>\n      <td>False</td>\n      <td>False</td>\n      <td>False</td>\n      <td>False</td>\n      <td>False</td>\n      <td>False</td>\n      <td>False</td>\n      <td>Abin Sur</td>\n    </tr>\n    <tr>\n      <th>Abomination</th>\n      <td>False</td>\n      <td>True</td>\n      <td>False</td>\n      <td>False</td>\n      <td>False</td>\n      <td>False</td>\n      <td>False</td>\n      <td>False</td>\n      <td>False</td>\n      <td>False</td>\n      <td>...</td>\n      <td>False</td>\n      <td>False</td>\n      <td>False</td>\n      <td>False</td>\n      <td>False</td>\n      <td>False</td>\n      <td>False</td>\n      <td>False</td>\n      <td>False</td>\n      <td>Abomination</td>\n    </tr>\n    <tr>\n      <th>...</th>\n      <td>...</td>\n      <td>...</td>\n      <td>...</td>\n      <td>...</td>\n      <td>...</td>\n      <td>...</td>\n      <td>...</td>\n      <td>...</td>\n      <td>...</td>\n      <td>...</td>\n      <td>...</td>\n      <td>...</td>\n      <td>...</td>\n      <td>...</td>\n      <td>...</td>\n      <td>...</td>\n      <td>...</td>\n      <td>...</td>\n      <td>...</td>\n      <td>...</td>\n      <td>...</td>\n    </tr>\n    <tr>\n      <th>Yellowjacket II</th>\n      <td>False</td>\n      <td>False</td>\n      <td>False</td>\n      <td>False</td>\n      <td>False</td>\n      <td>False</td>\n      <td>False</td>\n      <td>False</td>\n      <td>True</td>\n      <td>False</td>\n      <td>...</td>\n      <td>False</td>\n      <td>False</td>\n      <td>False</td>\n      <td>False</td>\n      <td>False</td>\n      <td>False</td>\n      <td>False</td>\n      <td>False</td>\n      <td>False</td>\n      <td>Yellowjacket II</td>\n    </tr>\n    <tr>\n      <th>Ymir</th>\n      <td>False</td>\n      <td>False</td>\n      <td>False</td>\n      <td>False</td>\n      <td>True</td>\n      <td>True</td>\n      <td>False</td>\n      <td>False</td>\n      <td>False</td>\n      <td>False</td>\n      <td>...</td>\n      <td>False</td>\n      <td>False</td>\n      <td>False</td>\n      <td>False</td>\n      <td>False</td>\n      <td>False</td>\n      <td>False</td>\n      <td>False</td>\n      <td>False</td>\n      <td>Ymir</td>\n    </tr>\n    <tr>\n      <th>Yoda</th>\n      <td>True</td>\n      <td>False</td>\n      <td>False</td>\n      <td>False</td>\n      <td>False</td>\n      <td>False</td>\n      <td>True</td>\n      <td>False</td>\n      <td>False</td>\n      <td>True</td>\n      <td>...</td>\n      <td>False</td>\n      <td>False</td>\n      <td>False</td>\n      <td>False</td>\n      <td>False</td>\n      <td>False</td>\n      <td>False</td>\n      <td>False</td>\n      <td>False</td>\n      <td>Yoda</td>\n    </tr>\n    <tr>\n      <th>Zatanna</th>\n      <td>False</td>\n      <td>False</td>\n      <td>False</td>\n      <td>False</td>\n      <td>False</td>\n      <td>False</td>\n      <td>False</td>\n      <td>False</td>\n      <td>False</td>\n      <td>False</td>\n      <td>...</td>\n      <td>False</td>\n      <td>False</td>\n      <td>False</td>\n      <td>False</td>\n      <td>False</td>\n      <td>False</td>\n      <td>False</td>\n      <td>False</td>\n      <td>False</td>\n      <td>Zatanna</td>\n    </tr>\n    <tr>\n      <th>Zoom</th>\n      <td>False</td>\n      <td>False</td>\n      <td>False</td>\n      <td>False</td>\n      <td>False</td>\n      <td>False</td>\n      <td>False</td>\n      <td>False</td>\n      <td>False</td>\n      <td>False</td>\n      <td>...</td>\n      <td>False</td>\n      <td>False</td>\n      <td>False</td>\n      <td>False</td>\n      <td>False</td>\n      <td>False</td>\n      <td>False</td>\n      <td>False</td>\n      <td>False</td>\n      <td>Zoom</td>\n    </tr>\n  </tbody>\n</table>\n<p>667 rows × 168 columns</p>\n</div>"
     },
     "execution_count": 375,
     "metadata": {},
     "output_type": "execute_result"
    }
   ],
   "source": [
    "names = powers_df.T.index\n",
    "\n",
    "powers_df_trans = powers_df.T\n",
    "powers_df_trans\n",
    "powers_df_trans[\"name\"] = names\n",
    "\n",
    "powers_df_trans"
   ]
  },
  {
   "cell_type": "markdown",
   "metadata": {
    "pycharm": {
     "name": "#%% md\n"
    }
   },
   "source": [
    "In the cell below, identify the shared key, and your strategy for joining the data (e.g. what will one record represent after you join, will you do a left/right/inner/outer join):"
   ]
  },
  {
   "cell_type": "code",
   "execution_count": 376,
   "metadata": {
    "pycharm": {
     "name": "#%%\n"
    }
   },
   "outputs": [
    {
     "data": {
      "text/plain": "'\\nMerge on index.\\n '"
     },
     "execution_count": 376,
     "metadata": {},
     "output_type": "execute_result"
    }
   ],
   "source": [
    "# Replace None with appropriate text\n",
    "\"\"\"\n",
    "Merge on index.\n",
    " \"\"\""
   ]
  },
  {
   "cell_type": "markdown",
   "metadata": {
    "pycharm": {
     "name": "#%% md\n"
    }
   },
   "source": [
    "In the cell below, create a new dataframe called `heroes_and_powers_df` that contains the joined data. You can look at the above answer in the solution branch if you're not sure where to start.\n",
    "\n",
    "***Hint:*** Note that the `.join` method requires that the two dataframes share an index ([documentation here](https://pandas.pydata.org/pandas-docs/stable/reference/api/pandas.DataFrame.join.html)) whereas the `.merge` method can join using any columns ([documentation here](https://pandas.pydata.org/pandas-docs/stable/reference/api/pandas.DataFrame.merge.html)). It is up to you which one you want to use."
   ]
  },
  {
   "cell_type": "code",
   "execution_count": 377,
   "metadata": {
    "pycharm": {
     "name": "#%%\n"
    }
   },
   "outputs": [
    {
     "data": {
      "text/plain": "                name  Gender Eye color               Race        Hair color  \\\n0             A-Bomb    Male    yellow              Human           No Hair   \n1         Abe Sapien    Male      blue      Icthyo Sapien           No Hair   \n2           Abin Sur    Male      blue            Ungaran           No Hair   \n3        Abomination    Male     green  Human / Radiation           No Hair   \n4            Abraxas    Male      blue      Cosmic Entity             Black   \n..               ...     ...       ...                ...               ...   \n642  Yellowjacket II  Female      blue              Human  Strawberry Blond   \n643             Ymir    Male     white        Frost Giant           No Hair   \n644             Yoda    Male     brown     Yoda's species             White   \n645          Zatanna  Female      blue              Human             Black   \n646             Zoom    Male       red                  -             Brown   \n\n     Height          Publisher Skin color Alignment  Weight  ...  \\\n0     203.0      Marvel Comics          -      good   441.0  ...   \n1     191.0  Dark Horse Comics       blue      good    65.0  ...   \n2     185.0          DC Comics        red      good    90.0  ...   \n3     203.0      Marvel Comics          -       bad   441.0  ...   \n4     -99.0      Marvel Comics          -       bad   -99.0  ...   \n..      ...                ...        ...       ...     ...  ...   \n642   165.0      Marvel Comics          -      good    52.0  ...   \n643   304.8      Marvel Comics      white      good   -99.0  ...   \n644    66.0       George Lucas      green      good    17.0  ...   \n645   170.0          DC Comics          -      good    57.0  ...   \n646   185.0          DC Comics          -       bad    81.0  ...   \n\n     Web Creation  Reality Warping  Odin Force  Symbiote Costume  Speed Force  \\\n0           False            False       False             False        False   \n1           False            False       False             False        False   \n2           False            False       False             False        False   \n3           False            False       False             False        False   \n4           False            False       False             False        False   \n..            ...              ...         ...               ...          ...   \n642         False            False       False             False        False   \n643         False            False       False             False        False   \n644         False            False       False             False        False   \n645         False            False       False             False        False   \n646         False            False       False             False        False   \n\n     Phoenix Force  Molecular Dissipation  Vision - Cryo  Omnipresent  \\\n0            False                  False          False        False   \n1            False                  False          False        False   \n2            False                  False          False        False   \n3            False                  False          False        False   \n4            False                  False          False        False   \n..             ...                    ...            ...          ...   \n642          False                  False          False        False   \n643          False                  False          False        False   \n644          False                  False          False        False   \n645          False                  False          False        False   \n646          False                  False          False        False   \n\n     Omniscient  \n0         False  \n1         False  \n2         False  \n3         False  \n4         False  \n..          ...  \n642       False  \n643       False  \n644       False  \n645       False  \n646       False  \n\n[647 rows x 177 columns]",
      "text/html": "<div>\n<style scoped>\n    .dataframe tbody tr th:only-of-type {\n        vertical-align: middle;\n    }\n\n    .dataframe tbody tr th {\n        vertical-align: top;\n    }\n\n    .dataframe thead th {\n        text-align: right;\n    }\n</style>\n<table border=\"1\" class=\"dataframe\">\n  <thead>\n    <tr style=\"text-align: right;\">\n      <th></th>\n      <th>name</th>\n      <th>Gender</th>\n      <th>Eye color</th>\n      <th>Race</th>\n      <th>Hair color</th>\n      <th>Height</th>\n      <th>Publisher</th>\n      <th>Skin color</th>\n      <th>Alignment</th>\n      <th>Weight</th>\n      <th>...</th>\n      <th>Web Creation</th>\n      <th>Reality Warping</th>\n      <th>Odin Force</th>\n      <th>Symbiote Costume</th>\n      <th>Speed Force</th>\n      <th>Phoenix Force</th>\n      <th>Molecular Dissipation</th>\n      <th>Vision - Cryo</th>\n      <th>Omnipresent</th>\n      <th>Omniscient</th>\n    </tr>\n  </thead>\n  <tbody>\n    <tr>\n      <th>0</th>\n      <td>A-Bomb</td>\n      <td>Male</td>\n      <td>yellow</td>\n      <td>Human</td>\n      <td>No Hair</td>\n      <td>203.0</td>\n      <td>Marvel Comics</td>\n      <td>-</td>\n      <td>good</td>\n      <td>441.0</td>\n      <td>...</td>\n      <td>False</td>\n      <td>False</td>\n      <td>False</td>\n      <td>False</td>\n      <td>False</td>\n      <td>False</td>\n      <td>False</td>\n      <td>False</td>\n      <td>False</td>\n      <td>False</td>\n    </tr>\n    <tr>\n      <th>1</th>\n      <td>Abe Sapien</td>\n      <td>Male</td>\n      <td>blue</td>\n      <td>Icthyo Sapien</td>\n      <td>No Hair</td>\n      <td>191.0</td>\n      <td>Dark Horse Comics</td>\n      <td>blue</td>\n      <td>good</td>\n      <td>65.0</td>\n      <td>...</td>\n      <td>False</td>\n      <td>False</td>\n      <td>False</td>\n      <td>False</td>\n      <td>False</td>\n      <td>False</td>\n      <td>False</td>\n      <td>False</td>\n      <td>False</td>\n      <td>False</td>\n    </tr>\n    <tr>\n      <th>2</th>\n      <td>Abin Sur</td>\n      <td>Male</td>\n      <td>blue</td>\n      <td>Ungaran</td>\n      <td>No Hair</td>\n      <td>185.0</td>\n      <td>DC Comics</td>\n      <td>red</td>\n      <td>good</td>\n      <td>90.0</td>\n      <td>...</td>\n      <td>False</td>\n      <td>False</td>\n      <td>False</td>\n      <td>False</td>\n      <td>False</td>\n      <td>False</td>\n      <td>False</td>\n      <td>False</td>\n      <td>False</td>\n      <td>False</td>\n    </tr>\n    <tr>\n      <th>3</th>\n      <td>Abomination</td>\n      <td>Male</td>\n      <td>green</td>\n      <td>Human / Radiation</td>\n      <td>No Hair</td>\n      <td>203.0</td>\n      <td>Marvel Comics</td>\n      <td>-</td>\n      <td>bad</td>\n      <td>441.0</td>\n      <td>...</td>\n      <td>False</td>\n      <td>False</td>\n      <td>False</td>\n      <td>False</td>\n      <td>False</td>\n      <td>False</td>\n      <td>False</td>\n      <td>False</td>\n      <td>False</td>\n      <td>False</td>\n    </tr>\n    <tr>\n      <th>4</th>\n      <td>Abraxas</td>\n      <td>Male</td>\n      <td>blue</td>\n      <td>Cosmic Entity</td>\n      <td>Black</td>\n      <td>-99.0</td>\n      <td>Marvel Comics</td>\n      <td>-</td>\n      <td>bad</td>\n      <td>-99.0</td>\n      <td>...</td>\n      <td>False</td>\n      <td>False</td>\n      <td>False</td>\n      <td>False</td>\n      <td>False</td>\n      <td>False</td>\n      <td>False</td>\n      <td>False</td>\n      <td>False</td>\n      <td>False</td>\n    </tr>\n    <tr>\n      <th>...</th>\n      <td>...</td>\n      <td>...</td>\n      <td>...</td>\n      <td>...</td>\n      <td>...</td>\n      <td>...</td>\n      <td>...</td>\n      <td>...</td>\n      <td>...</td>\n      <td>...</td>\n      <td>...</td>\n      <td>...</td>\n      <td>...</td>\n      <td>...</td>\n      <td>...</td>\n      <td>...</td>\n      <td>...</td>\n      <td>...</td>\n      <td>...</td>\n      <td>...</td>\n      <td>...</td>\n    </tr>\n    <tr>\n      <th>642</th>\n      <td>Yellowjacket II</td>\n      <td>Female</td>\n      <td>blue</td>\n      <td>Human</td>\n      <td>Strawberry Blond</td>\n      <td>165.0</td>\n      <td>Marvel Comics</td>\n      <td>-</td>\n      <td>good</td>\n      <td>52.0</td>\n      <td>...</td>\n      <td>False</td>\n      <td>False</td>\n      <td>False</td>\n      <td>False</td>\n      <td>False</td>\n      <td>False</td>\n      <td>False</td>\n      <td>False</td>\n      <td>False</td>\n      <td>False</td>\n    </tr>\n    <tr>\n      <th>643</th>\n      <td>Ymir</td>\n      <td>Male</td>\n      <td>white</td>\n      <td>Frost Giant</td>\n      <td>No Hair</td>\n      <td>304.8</td>\n      <td>Marvel Comics</td>\n      <td>white</td>\n      <td>good</td>\n      <td>-99.0</td>\n      <td>...</td>\n      <td>False</td>\n      <td>False</td>\n      <td>False</td>\n      <td>False</td>\n      <td>False</td>\n      <td>False</td>\n      <td>False</td>\n      <td>False</td>\n      <td>False</td>\n      <td>False</td>\n    </tr>\n    <tr>\n      <th>644</th>\n      <td>Yoda</td>\n      <td>Male</td>\n      <td>brown</td>\n      <td>Yoda's species</td>\n      <td>White</td>\n      <td>66.0</td>\n      <td>George Lucas</td>\n      <td>green</td>\n      <td>good</td>\n      <td>17.0</td>\n      <td>...</td>\n      <td>False</td>\n      <td>False</td>\n      <td>False</td>\n      <td>False</td>\n      <td>False</td>\n      <td>False</td>\n      <td>False</td>\n      <td>False</td>\n      <td>False</td>\n      <td>False</td>\n    </tr>\n    <tr>\n      <th>645</th>\n      <td>Zatanna</td>\n      <td>Female</td>\n      <td>blue</td>\n      <td>Human</td>\n      <td>Black</td>\n      <td>170.0</td>\n      <td>DC Comics</td>\n      <td>-</td>\n      <td>good</td>\n      <td>57.0</td>\n      <td>...</td>\n      <td>False</td>\n      <td>False</td>\n      <td>False</td>\n      <td>False</td>\n      <td>False</td>\n      <td>False</td>\n      <td>False</td>\n      <td>False</td>\n      <td>False</td>\n      <td>False</td>\n    </tr>\n    <tr>\n      <th>646</th>\n      <td>Zoom</td>\n      <td>Male</td>\n      <td>red</td>\n      <td>-</td>\n      <td>Brown</td>\n      <td>185.0</td>\n      <td>DC Comics</td>\n      <td>-</td>\n      <td>bad</td>\n      <td>81.0</td>\n      <td>...</td>\n      <td>False</td>\n      <td>False</td>\n      <td>False</td>\n      <td>False</td>\n      <td>False</td>\n      <td>False</td>\n      <td>False</td>\n      <td>False</td>\n      <td>False</td>\n      <td>False</td>\n    </tr>\n  </tbody>\n</table>\n<p>647 rows × 177 columns</p>\n</div>"
     },
     "execution_count": 377,
     "metadata": {},
     "output_type": "execute_result"
    }
   ],
   "source": [
    "heroes_and_powers_df = pd.merge(heroes_df, powers_df_trans )\n",
    "\n",
    "heroes_and_powers_df"
   ]
  },
  {
   "cell_type": "markdown",
   "metadata": {
    "pycharm": {
     "name": "#%% md\n"
    }
   },
   "source": [
    "Run the code below to check your work:"
   ]
  },
  {
   "cell_type": "code",
   "execution_count": 378,
   "metadata": {
    "pycharm": {
     "name": "#%%\n"
    }
   },
   "outputs": [],
   "source": [
    "# Run this cell without changes\n",
    "\n",
    "# Confirms you have created a dataframe with the specified name\n",
    "assert type(heroes_and_powers_df) == pd.DataFrame\n",
    "\n",
    "# Confirms you have the right number of rows\n",
    "assert heroes_and_powers_df.shape[0] == 647\n",
    "\n",
    "# Confirms you have the necessary columns\n",
    "# (If you modified the value of powers_df along the way, you might need to\n",
    "# modify this test. We are checking that all of the powers are present as\n",
    "# columns.)\n",
    "assert [power in heroes_and_powers_df.columns for power in powers_df.index]\n",
    "# (If you modified the value of heroes_df along the way, you mgith need to \n",
    "# modify this as well. We are checking that all of the attribute columns from\n",
    "# heroes_df are present as columns in the joined df)\n",
    "assert [attribute in heroes_and_powers_df.columns for attribute in heroes_df.columns]"
   ]
  },
  {
   "cell_type": "markdown",
   "metadata": {
    "pycharm": {
     "name": "#%% md\n"
    }
   },
   "source": [
    "Now that we have created a joined dataframe, we can aggregate the number of superpowers by superhero. This code is written for you:"
   ]
  },
  {
   "cell_type": "code",
   "execution_count": 379,
   "metadata": {
    "pycharm": {
     "name": "#%%\n"
    }
   },
   "outputs": [
    {
     "data": {
      "text/plain": "                name  Gender Eye color               Race        Hair color  \\\n0             A-Bomb    Male    yellow              Human           No Hair   \n1         Abe Sapien    Male      blue      Icthyo Sapien           No Hair   \n2           Abin Sur    Male      blue            Ungaran           No Hair   \n3        Abomination    Male     green  Human / Radiation           No Hair   \n4            Abraxas    Male      blue      Cosmic Entity             Black   \n..               ...     ...       ...                ...               ...   \n642  Yellowjacket II  Female      blue              Human  Strawberry Blond   \n643             Ymir    Male     white        Frost Giant           No Hair   \n644             Yoda    Male     brown     Yoda's species             White   \n645          Zatanna  Female      blue              Human             Black   \n646             Zoom    Male       red                  -             Brown   \n\n     Height          Publisher Skin color Alignment  Weight  ...  \\\n0     203.0      Marvel Comics          -      good   441.0  ...   \n1     191.0  Dark Horse Comics       blue      good    65.0  ...   \n2     185.0          DC Comics        red      good    90.0  ...   \n3     203.0      Marvel Comics          -       bad   441.0  ...   \n4     -99.0      Marvel Comics          -       bad   -99.0  ...   \n..      ...                ...        ...       ...     ...  ...   \n642   165.0      Marvel Comics          -      good    52.0  ...   \n643   304.8      Marvel Comics      white      good   -99.0  ...   \n644    66.0       George Lucas      green      good    17.0  ...   \n645   170.0          DC Comics          -      good    57.0  ...   \n646   185.0          DC Comics          -       bad    81.0  ...   \n\n     Reality Warping  Odin Force  Symbiote Costume  Speed Force  \\\n0              False       False             False        False   \n1              False       False             False        False   \n2              False       False             False        False   \n3              False       False             False        False   \n4              False       False             False        False   \n..               ...         ...               ...          ...   \n642            False       False             False        False   \n643            False       False             False        False   \n644            False       False             False        False   \n645            False       False             False        False   \n646            False       False             False        False   \n\n     Phoenix Force  Molecular Dissipation  Vision - Cryo  Omnipresent  \\\n0            False                  False          False        False   \n1            False                  False          False        False   \n2            False                  False          False        False   \n3            False                  False          False        False   \n4            False                  False          False        False   \n..             ...                    ...            ...          ...   \n642          False                  False          False        False   \n643          False                  False          False        False   \n644          False                  False          False        False   \n645          False                  False          False        False   \n646          False                  False          False        False   \n\n     Omniscient  Power Count  \n0         False            7  \n1         False           16  \n2         False            1  \n3         False            8  \n4         False           14  \n..          ...          ...  \n642       False            3  \n643       False            6  \n644       False           19  \n645       False            8  \n646       False            4  \n\n[647 rows x 178 columns]",
      "text/html": "<div>\n<style scoped>\n    .dataframe tbody tr th:only-of-type {\n        vertical-align: middle;\n    }\n\n    .dataframe tbody tr th {\n        vertical-align: top;\n    }\n\n    .dataframe thead th {\n        text-align: right;\n    }\n</style>\n<table border=\"1\" class=\"dataframe\">\n  <thead>\n    <tr style=\"text-align: right;\">\n      <th></th>\n      <th>name</th>\n      <th>Gender</th>\n      <th>Eye color</th>\n      <th>Race</th>\n      <th>Hair color</th>\n      <th>Height</th>\n      <th>Publisher</th>\n      <th>Skin color</th>\n      <th>Alignment</th>\n      <th>Weight</th>\n      <th>...</th>\n      <th>Reality Warping</th>\n      <th>Odin Force</th>\n      <th>Symbiote Costume</th>\n      <th>Speed Force</th>\n      <th>Phoenix Force</th>\n      <th>Molecular Dissipation</th>\n      <th>Vision - Cryo</th>\n      <th>Omnipresent</th>\n      <th>Omniscient</th>\n      <th>Power Count</th>\n    </tr>\n  </thead>\n  <tbody>\n    <tr>\n      <th>0</th>\n      <td>A-Bomb</td>\n      <td>Male</td>\n      <td>yellow</td>\n      <td>Human</td>\n      <td>No Hair</td>\n      <td>203.0</td>\n      <td>Marvel Comics</td>\n      <td>-</td>\n      <td>good</td>\n      <td>441.0</td>\n      <td>...</td>\n      <td>False</td>\n      <td>False</td>\n      <td>False</td>\n      <td>False</td>\n      <td>False</td>\n      <td>False</td>\n      <td>False</td>\n      <td>False</td>\n      <td>False</td>\n      <td>7</td>\n    </tr>\n    <tr>\n      <th>1</th>\n      <td>Abe Sapien</td>\n      <td>Male</td>\n      <td>blue</td>\n      <td>Icthyo Sapien</td>\n      <td>No Hair</td>\n      <td>191.0</td>\n      <td>Dark Horse Comics</td>\n      <td>blue</td>\n      <td>good</td>\n      <td>65.0</td>\n      <td>...</td>\n      <td>False</td>\n      <td>False</td>\n      <td>False</td>\n      <td>False</td>\n      <td>False</td>\n      <td>False</td>\n      <td>False</td>\n      <td>False</td>\n      <td>False</td>\n      <td>16</td>\n    </tr>\n    <tr>\n      <th>2</th>\n      <td>Abin Sur</td>\n      <td>Male</td>\n      <td>blue</td>\n      <td>Ungaran</td>\n      <td>No Hair</td>\n      <td>185.0</td>\n      <td>DC Comics</td>\n      <td>red</td>\n      <td>good</td>\n      <td>90.0</td>\n      <td>...</td>\n      <td>False</td>\n      <td>False</td>\n      <td>False</td>\n      <td>False</td>\n      <td>False</td>\n      <td>False</td>\n      <td>False</td>\n      <td>False</td>\n      <td>False</td>\n      <td>1</td>\n    </tr>\n    <tr>\n      <th>3</th>\n      <td>Abomination</td>\n      <td>Male</td>\n      <td>green</td>\n      <td>Human / Radiation</td>\n      <td>No Hair</td>\n      <td>203.0</td>\n      <td>Marvel Comics</td>\n      <td>-</td>\n      <td>bad</td>\n      <td>441.0</td>\n      <td>...</td>\n      <td>False</td>\n      <td>False</td>\n      <td>False</td>\n      <td>False</td>\n      <td>False</td>\n      <td>False</td>\n      <td>False</td>\n      <td>False</td>\n      <td>False</td>\n      <td>8</td>\n    </tr>\n    <tr>\n      <th>4</th>\n      <td>Abraxas</td>\n      <td>Male</td>\n      <td>blue</td>\n      <td>Cosmic Entity</td>\n      <td>Black</td>\n      <td>-99.0</td>\n      <td>Marvel Comics</td>\n      <td>-</td>\n      <td>bad</td>\n      <td>-99.0</td>\n      <td>...</td>\n      <td>False</td>\n      <td>False</td>\n      <td>False</td>\n      <td>False</td>\n      <td>False</td>\n      <td>False</td>\n      <td>False</td>\n      <td>False</td>\n      <td>False</td>\n      <td>14</td>\n    </tr>\n    <tr>\n      <th>...</th>\n      <td>...</td>\n      <td>...</td>\n      <td>...</td>\n      <td>...</td>\n      <td>...</td>\n      <td>...</td>\n      <td>...</td>\n      <td>...</td>\n      <td>...</td>\n      <td>...</td>\n      <td>...</td>\n      <td>...</td>\n      <td>...</td>\n      <td>...</td>\n      <td>...</td>\n      <td>...</td>\n      <td>...</td>\n      <td>...</td>\n      <td>...</td>\n      <td>...</td>\n      <td>...</td>\n    </tr>\n    <tr>\n      <th>642</th>\n      <td>Yellowjacket II</td>\n      <td>Female</td>\n      <td>blue</td>\n      <td>Human</td>\n      <td>Strawberry Blond</td>\n      <td>165.0</td>\n      <td>Marvel Comics</td>\n      <td>-</td>\n      <td>good</td>\n      <td>52.0</td>\n      <td>...</td>\n      <td>False</td>\n      <td>False</td>\n      <td>False</td>\n      <td>False</td>\n      <td>False</td>\n      <td>False</td>\n      <td>False</td>\n      <td>False</td>\n      <td>False</td>\n      <td>3</td>\n    </tr>\n    <tr>\n      <th>643</th>\n      <td>Ymir</td>\n      <td>Male</td>\n      <td>white</td>\n      <td>Frost Giant</td>\n      <td>No Hair</td>\n      <td>304.8</td>\n      <td>Marvel Comics</td>\n      <td>white</td>\n      <td>good</td>\n      <td>-99.0</td>\n      <td>...</td>\n      <td>False</td>\n      <td>False</td>\n      <td>False</td>\n      <td>False</td>\n      <td>False</td>\n      <td>False</td>\n      <td>False</td>\n      <td>False</td>\n      <td>False</td>\n      <td>6</td>\n    </tr>\n    <tr>\n      <th>644</th>\n      <td>Yoda</td>\n      <td>Male</td>\n      <td>brown</td>\n      <td>Yoda's species</td>\n      <td>White</td>\n      <td>66.0</td>\n      <td>George Lucas</td>\n      <td>green</td>\n      <td>good</td>\n      <td>17.0</td>\n      <td>...</td>\n      <td>False</td>\n      <td>False</td>\n      <td>False</td>\n      <td>False</td>\n      <td>False</td>\n      <td>False</td>\n      <td>False</td>\n      <td>False</td>\n      <td>False</td>\n      <td>19</td>\n    </tr>\n    <tr>\n      <th>645</th>\n      <td>Zatanna</td>\n      <td>Female</td>\n      <td>blue</td>\n      <td>Human</td>\n      <td>Black</td>\n      <td>170.0</td>\n      <td>DC Comics</td>\n      <td>-</td>\n      <td>good</td>\n      <td>57.0</td>\n      <td>...</td>\n      <td>False</td>\n      <td>False</td>\n      <td>False</td>\n      <td>False</td>\n      <td>False</td>\n      <td>False</td>\n      <td>False</td>\n      <td>False</td>\n      <td>False</td>\n      <td>8</td>\n    </tr>\n    <tr>\n      <th>646</th>\n      <td>Zoom</td>\n      <td>Male</td>\n      <td>red</td>\n      <td>-</td>\n      <td>Brown</td>\n      <td>185.0</td>\n      <td>DC Comics</td>\n      <td>-</td>\n      <td>bad</td>\n      <td>81.0</td>\n      <td>...</td>\n      <td>False</td>\n      <td>False</td>\n      <td>False</td>\n      <td>False</td>\n      <td>False</td>\n      <td>False</td>\n      <td>False</td>\n      <td>False</td>\n      <td>False</td>\n      <td>4</td>\n    </tr>\n  </tbody>\n</table>\n<p>647 rows × 178 columns</p>\n</div>"
     },
     "execution_count": 379,
     "metadata": {},
     "output_type": "execute_result"
    }
   ],
   "source": [
    "# Run this cell without changes\n",
    "\n",
    "# Note: we can use sum() with True and False values and they will\n",
    "# automatically be cast to 1s and 0s\n",
    "heroes_and_powers_df[\"Power Count\"] = sum([heroes_and_powers_df[power_name] for power_name in powers_df.index])\n",
    "heroes_and_powers_df"
   ]
  },
  {
   "cell_type": "markdown",
   "metadata": {
    "pycharm": {
     "name": "#%% md\n"
    }
   },
   "source": [
    "### Answering the Question\n",
    "\n",
    "Now we can plot the height vs. the count of powers:"
   ]
  },
  {
   "cell_type": "code",
   "execution_count": 380,
   "metadata": {
    "pycharm": {
     "name": "#%%\n"
    }
   },
   "outputs": [
    {
     "data": {
      "text/plain": "<Figure size 1152x576 with 1 Axes>",
      "image/png": "[encoded data removed]"
     },
     "metadata": {
      "needs_background": "light"
     },
     "output_type": "display_data"
    }
   ],
   "source": [
    "# Run this cell without changes\n",
    "\n",
    "fig, ax = plt.subplots(figsize=(16, 8))\n",
    "\n",
    "ax.scatter(\n",
    "    x=heroes_and_powers_df[\"Height\"],\n",
    "    y=heroes_and_powers_df[\"Power Count\"],\n",
    "    alpha=0.3\n",
    ")\n",
    "\n",
    "ax.set_xlabel(\"Height (cm)\")\n",
    "ax.set_ylabel(\"Number of Superpowers\")\n",
    "ax.set_title(\"Height vs. Power Count\");"
   ]
  },
  {
   "cell_type": "markdown",
   "metadata": {
    "pycharm": {
     "name": "#%% md\n"
    }
   },
   "source": [
    "Hmm...what is that stack of values off below zero? What is a \"negative\" height?"
   ]
  },
  {
   "cell_type": "markdown",
   "metadata": {
    "pycharm": {
     "name": "#%% md\n"
    }
   },
   "source": [
    "### Identifying and Handling Invalid values\n",
    "\n",
    "One of the trickier tasks in data cleaning is identifying invalid or impossible values. In these cases, you have to apply your domain knowledge rather than any particular computational technique. For example, if you were looking at data containing dates of past home sales, and one of those dates was 100 years in the future, pandas wouldn't flag that as an issue, but you as a data scientist should be able to identify it.\n",
    "\n",
    "In this case, we are looking at heights, which are 1-dimensional, positive numbers. In theory we could have a very tiny height close to 0 cm because the hero is microscopic, but it does not make sense that we would have a height below zero.\n",
    "\n",
    "Let's take a look at a sample of those negative heights:"
   ]
  },
  {
   "cell_type": "code",
   "execution_count": 381,
   "metadata": {
    "pycharm": {
     "name": "#%%\n"
    }
   },
   "outputs": [
    {
     "data": {
      "text/plain": "                 name  Gender Eye color   Race        Hair color  Height  \\\n150         Chameleon    Male         -      -                 -   -99.0   \n163  Crimson Crusader    Male      blue      -  Strawberry Blond   -99.0   \n364              Luna  Female         -  Human                 -   -99.0   \n315         JJ Powell    Male         -      -                 -   -99.0   \n630         Weapon XI    Male         -      -                 -   -99.0   \n\n         Publisher Skin color Alignment  Weight  ...  Reality Warping  \\\n150      DC Comics          -       bad   -99.0  ...            False   \n163  Marvel Comics          -      good   -99.0  ...            False   \n364  Marvel Comics          -      good   -99.0  ...            False   \n315    ABC Studios          -      good   -99.0  ...            False   \n630  Marvel Comics          -       bad   -99.0  ...            False   \n\n     Odin Force  Symbiote Costume  Speed Force  Phoenix Force  \\\n150       False             False        False          False   \n163       False             False        False          False   \n364       False             False        False          False   \n315       False             False        False          False   \n630       False             False        False          False   \n\n     Molecular Dissipation  Vision - Cryo  Omnipresent  Omniscient  \\\n150                  False          False        False       False   \n163                  False          False        False       False   \n364                  False          False        False       False   \n315                  False          False        False       False   \n630                  False          False        False       False   \n\n     Power Count  \n150            1  \n163            4  \n364            1  \n315            1  \n630            7  \n\n[5 rows x 178 columns]",
      "text/html": "<div>\n<style scoped>\n    .dataframe tbody tr th:only-of-type {\n        vertical-align: middle;\n    }\n\n    .dataframe tbody tr th {\n        vertical-align: top;\n    }\n\n    .dataframe thead th {\n        text-align: right;\n    }\n</style>\n<table border=\"1\" class=\"dataframe\">\n  <thead>\n    <tr style=\"text-align: right;\">\n      <th></th>\n      <th>name</th>\n      <th>Gender</th>\n      <th>Eye color</th>\n      <th>Race</th>\n      <th>Hair color</th>\n      <th>Height</th>\n      <th>Publisher</th>\n      <th>Skin color</th>\n      <th>Alignment</th>\n      <th>Weight</th>\n      <th>...</th>\n      <th>Reality Warping</th>\n      <th>Odin Force</th>\n      <th>Symbiote Costume</th>\n      <th>Speed Force</th>\n      <th>Phoenix Force</th>\n      <th>Molecular Dissipation</th>\n      <th>Vision - Cryo</th>\n      <th>Omnipresent</th>\n      <th>Omniscient</th>\n      <th>Power Count</th>\n    </tr>\n  </thead>\n  <tbody>\n    <tr>\n      <th>150</th>\n      <td>Chameleon</td>\n      <td>Male</td>\n      <td>-</td>\n      <td>-</td>\n      <td>-</td>\n      <td>-99.0</td>\n      <td>DC Comics</td>\n      <td>-</td>\n      <td>bad</td>\n      <td>-99.0</td>\n      <td>...</td>\n      <td>False</td>\n      <td>False</td>\n      <td>False</td>\n      <td>False</td>\n      <td>False</td>\n      <td>False</td>\n      <td>False</td>\n      <td>False</td>\n      <td>False</td>\n      <td>1</td>\n    </tr>\n    <tr>\n      <th>163</th>\n      <td>Crimson Crusader</td>\n      <td>Male</td>\n      <td>blue</td>\n      <td>-</td>\n      <td>Strawberry Blond</td>\n      <td>-99.0</td>\n      <td>Marvel Comics</td>\n      <td>-</td>\n      <td>good</td>\n      <td>-99.0</td>\n      <td>...</td>\n      <td>False</td>\n      <td>False</td>\n      <td>False</td>\n      <td>False</td>\n      <td>False</td>\n      <td>False</td>\n      <td>False</td>\n      <td>False</td>\n      <td>False</td>\n      <td>4</td>\n    </tr>\n    <tr>\n      <th>364</th>\n      <td>Luna</td>\n      <td>Female</td>\n      <td>-</td>\n      <td>Human</td>\n      <td>-</td>\n      <td>-99.0</td>\n      <td>Marvel Comics</td>\n      <td>-</td>\n      <td>good</td>\n      <td>-99.0</td>\n      <td>...</td>\n      <td>False</td>\n      <td>False</td>\n      <td>False</td>\n      <td>False</td>\n      <td>False</td>\n      <td>False</td>\n      <td>False</td>\n      <td>False</td>\n      <td>False</td>\n      <td>1</td>\n    </tr>\n    <tr>\n      <th>315</th>\n      <td>JJ Powell</td>\n      <td>Male</td>\n      <td>-</td>\n      <td>-</td>\n      <td>-</td>\n      <td>-99.0</td>\n      <td>ABC Studios</td>\n      <td>-</td>\n      <td>good</td>\n      <td>-99.0</td>\n      <td>...</td>\n      <td>False</td>\n      <td>False</td>\n      <td>False</td>\n      <td>False</td>\n      <td>False</td>\n      <td>False</td>\n      <td>False</td>\n      <td>False</td>\n      <td>False</td>\n      <td>1</td>\n    </tr>\n    <tr>\n      <th>630</th>\n      <td>Weapon XI</td>\n      <td>Male</td>\n      <td>-</td>\n      <td>-</td>\n      <td>-</td>\n      <td>-99.0</td>\n      <td>Marvel Comics</td>\n      <td>-</td>\n      <td>bad</td>\n      <td>-99.0</td>\n      <td>...</td>\n      <td>False</td>\n      <td>False</td>\n      <td>False</td>\n      <td>False</td>\n      <td>False</td>\n      <td>False</td>\n      <td>False</td>\n      <td>False</td>\n      <td>False</td>\n      <td>7</td>\n    </tr>\n  </tbody>\n</table>\n<p>5 rows × 178 columns</p>\n</div>"
     },
     "execution_count": 381,
     "metadata": {},
     "output_type": "execute_result"
    }
   ],
   "source": [
    "# Run this cell without changes\n",
    "heroes_and_powers_df[heroes_and_powers_df[\"Height\"] < 0].sample(5, random_state=1)"
   ]
  },
  {
   "cell_type": "markdown",
   "metadata": {
    "pycharm": {
     "name": "#%% md\n"
    }
   },
   "source": [
    "It looks like not only are those heights negative, those weights are negative also, and all of them are set to exactly -99.0.\n",
    "\n",
    "It seems like this data source probably filled in -99.0 as the height or weight whenever it was unknown, instead of just leaving it as NaN.\n",
    "\n",
    "Depending on the purpose of the analysis, maybe this would be a useful piece of information, but for our current question, let's go ahead and drop the records where the height is -99.0. We'll make a new temporary dataframe to make sure we don't accidentally delete anything that will be needed in a future question."
   ]
  },
  {
   "cell_type": "code",
   "execution_count": 382,
   "metadata": {
    "pycharm": {
     "name": "#%%\n"
    }
   },
   "outputs": [
    {
     "data": {
      "text/plain": "                name  Gender Eye color               Race        Hair color  \\\n0             A-Bomb    Male    yellow              Human           No Hair   \n1         Abe Sapien    Male      blue      Icthyo Sapien           No Hair   \n2           Abin Sur    Male      blue            Ungaran           No Hair   \n3        Abomination    Male     green  Human / Radiation           No Hair   \n5      Absorbing Man    Male      blue              Human           No Hair   \n..               ...     ...       ...                ...               ...   \n642  Yellowjacket II  Female      blue              Human  Strawberry Blond   \n643             Ymir    Male     white        Frost Giant           No Hair   \n644             Yoda    Male     brown     Yoda's species             White   \n645          Zatanna  Female      blue              Human             Black   \n646             Zoom    Male       red                  -             Brown   \n\n     Height          Publisher Skin color Alignment  Weight  ...  \\\n0     203.0      Marvel Comics          -      good   441.0  ...   \n1     191.0  Dark Horse Comics       blue      good    65.0  ...   \n2     185.0          DC Comics        red      good    90.0  ...   \n3     203.0      Marvel Comics          -       bad   441.0  ...   \n5     193.0      Marvel Comics          -       bad   122.0  ...   \n..      ...                ...        ...       ...     ...  ...   \n642   165.0      Marvel Comics          -      good    52.0  ...   \n643   304.8      Marvel Comics      white      good   -99.0  ...   \n644    66.0       George Lucas      green      good    17.0  ...   \n645   170.0          DC Comics          -      good    57.0  ...   \n646   185.0          DC Comics          -       bad    81.0  ...   \n\n     Reality Warping  Odin Force  Symbiote Costume  Speed Force  \\\n0              False       False             False        False   \n1              False       False             False        False   \n2              False       False             False        False   \n3              False       False             False        False   \n5              False       False             False        False   \n..               ...         ...               ...          ...   \n642            False       False             False        False   \n643            False       False             False        False   \n644            False       False             False        False   \n645            False       False             False        False   \n646            False       False             False        False   \n\n     Phoenix Force  Molecular Dissipation  Vision - Cryo  Omnipresent  \\\n0            False                  False          False        False   \n1            False                  False          False        False   \n2            False                  False          False        False   \n3            False                  False          False        False   \n5            False                  False          False        False   \n..             ...                    ...            ...          ...   \n642          False                  False          False        False   \n643          False                  False          False        False   \n644          False                  False          False        False   \n645          False                  False          False        False   \n646          False                  False          False        False   \n\n     Omniscient  Power Count  \n0         False            7  \n1         False           16  \n2         False            1  \n3         False            8  \n5         False           11  \n..          ...          ...  \n642       False            3  \n643       False            6  \n644       False           19  \n645       False            8  \n646       False            4  \n\n[484 rows x 178 columns]",
      "text/html": "<div>\n<style scoped>\n    .dataframe tbody tr th:only-of-type {\n        vertical-align: middle;\n    }\n\n    .dataframe tbody tr th {\n        vertical-align: top;\n    }\n\n    .dataframe thead th {\n        text-align: right;\n    }\n</style>\n<table border=\"1\" class=\"dataframe\">\n  <thead>\n    <tr style=\"text-align: right;\">\n      <th></th>\n      <th>name</th>\n      <th>Gender</th>\n      <th>Eye color</th>\n      <th>Race</th>\n      <th>Hair color</th>\n      <th>Height</th>\n      <th>Publisher</th>\n      <th>Skin color</th>\n      <th>Alignment</th>\n      <th>Weight</th>\n      <th>...</th>\n      <th>Reality Warping</th>\n      <th>Odin Force</th>\n      <th>Symbiote Costume</th>\n      <th>Speed Force</th>\n      <th>Phoenix Force</th>\n      <th>Molecular Dissipation</th>\n      <th>Vision - Cryo</th>\n      <th>Omnipresent</th>\n      <th>Omniscient</th>\n      <th>Power Count</th>\n    </tr>\n  </thead>\n  <tbody>\n    <tr>\n      <th>0</th>\n      <td>A-Bomb</td>\n      <td>Male</td>\n      <td>yellow</td>\n      <td>Human</td>\n      <td>No Hair</td>\n      <td>203.0</td>\n      <td>Marvel Comics</td>\n      <td>-</td>\n      <td>good</td>\n      <td>441.0</td>\n      <td>...</td>\n      <td>False</td>\n      <td>False</td>\n      <td>False</td>\n      <td>False</td>\n      <td>False</td>\n      <td>False</td>\n      <td>False</td>\n      <td>False</td>\n      <td>False</td>\n      <td>7</td>\n    </tr>\n    <tr>\n      <th>1</th>\n      <td>Abe Sapien</td>\n      <td>Male</td>\n      <td>blue</td>\n      <td>Icthyo Sapien</td>\n      <td>No Hair</td>\n      <td>191.0</td>\n      <td>Dark Horse Comics</td>\n      <td>blue</td>\n      <td>good</td>\n      <td>65.0</td>\n      <td>...</td>\n      <td>False</td>\n      <td>False</td>\n      <td>False</td>\n      <td>False</td>\n      <td>False</td>\n      <td>False</td>\n      <td>False</td>\n      <td>False</td>\n      <td>False</td>\n      <td>16</td>\n    </tr>\n    <tr>\n      <th>2</th>\n      <td>Abin Sur</td>\n      <td>Male</td>\n      <td>blue</td>\n      <td>Ungaran</td>\n      <td>No Hair</td>\n      <td>185.0</td>\n      <td>DC Comics</td>\n      <td>red</td>\n      <td>good</td>\n      <td>90.0</td>\n      <td>...</td>\n      <td>False</td>\n      <td>False</td>\n      <td>False</td>\n      <td>False</td>\n      <td>False</td>\n      <td>False</td>\n      <td>False</td>\n      <td>False</td>\n      <td>False</td>\n      <td>1</td>\n    </tr>\n    <tr>\n      <th>3</th>\n      <td>Abomination</td>\n      <td>Male</td>\n      <td>green</td>\n      <td>Human / Radiation</td>\n      <td>No Hair</td>\n      <td>203.0</td>\n      <td>Marvel Comics</td>\n      <td>-</td>\n      <td>bad</td>\n      <td>441.0</td>\n      <td>...</td>\n      <td>False</td>\n      <td>False</td>\n      <td>False</td>\n      <td>False</td>\n      <td>False</td>\n      <td>False</td>\n      <td>False</td>\n      <td>False</td>\n      <td>False</td>\n      <td>8</td>\n    </tr>\n    <tr>\n      <th>5</th>\n      <td>Absorbing Man</td>\n      <td>Male</td>\n      <td>blue</td>\n      <td>Human</td>\n      <td>No Hair</td>\n      <td>193.0</td>\n      <td>Marvel Comics</td>\n      <td>-</td>\n      <td>bad</td>\n      <td>122.0</td>\n      <td>...</td>\n      <td>False</td>\n      <td>False</td>\n      <td>False</td>\n      <td>False</td>\n      <td>False</td>\n      <td>False</td>\n      <td>False</td>\n      <td>False</td>\n      <td>False</td>\n      <td>11</td>\n    </tr>\n    <tr>\n      <th>...</th>\n      <td>...</td>\n      <td>...</td>\n      <td>...</td>\n      <td>...</td>\n      <td>...</td>\n      <td>...</td>\n      <td>...</td>\n      <td>...</td>\n      <td>...</td>\n      <td>...</td>\n      <td>...</td>\n      <td>...</td>\n      <td>...</td>\n      <td>...</td>\n      <td>...</td>\n      <td>...</td>\n      <td>...</td>\n      <td>...</td>\n      <td>...</td>\n      <td>...</td>\n      <td>...</td>\n    </tr>\n    <tr>\n      <th>642</th>\n      <td>Yellowjacket II</td>\n      <td>Female</td>\n      <td>blue</td>\n      <td>Human</td>\n      <td>Strawberry Blond</td>\n      <td>165.0</td>\n      <td>Marvel Comics</td>\n      <td>-</td>\n      <td>good</td>\n      <td>52.0</td>\n      <td>...</td>\n      <td>False</td>\n      <td>False</td>\n      <td>False</td>\n      <td>False</td>\n      <td>False</td>\n      <td>False</td>\n      <td>False</td>\n      <td>False</td>\n      <td>False</td>\n      <td>3</td>\n    </tr>\n    <tr>\n      <th>643</th>\n      <td>Ymir</td>\n      <td>Male</td>\n      <td>white</td>\n      <td>Frost Giant</td>\n      <td>No Hair</td>\n      <td>304.8</td>\n      <td>Marvel Comics</td>\n      <td>white</td>\n      <td>good</td>\n      <td>-99.0</td>\n      <td>...</td>\n      <td>False</td>\n      <td>False</td>\n      <td>False</td>\n      <td>False</td>\n      <td>False</td>\n      <td>False</td>\n      <td>False</td>\n      <td>False</td>\n      <td>False</td>\n      <td>6</td>\n    </tr>\n    <tr>\n      <th>644</th>\n      <td>Yoda</td>\n      <td>Male</td>\n      <td>brown</td>\n      <td>Yoda's species</td>\n      <td>White</td>\n      <td>66.0</td>\n      <td>George Lucas</td>\n      <td>green</td>\n      <td>good</td>\n      <td>17.0</td>\n      <td>...</td>\n      <td>False</td>\n      <td>False</td>\n      <td>False</td>\n      <td>False</td>\n      <td>False</td>\n      <td>False</td>\n      <td>False</td>\n      <td>False</td>\n      <td>False</td>\n      <td>19</td>\n    </tr>\n    <tr>\n      <th>645</th>\n      <td>Zatanna</td>\n      <td>Female</td>\n      <td>blue</td>\n      <td>Human</td>\n      <td>Black</td>\n      <td>170.0</td>\n      <td>DC Comics</td>\n      <td>-</td>\n      <td>good</td>\n      <td>57.0</td>\n      <td>...</td>\n      <td>False</td>\n      <td>False</td>\n      <td>False</td>\n      <td>False</td>\n      <td>False</td>\n      <td>False</td>\n      <td>False</td>\n      <td>False</td>\n      <td>False</td>\n      <td>8</td>\n    </tr>\n    <tr>\n      <th>646</th>\n      <td>Zoom</td>\n      <td>Male</td>\n      <td>red</td>\n      <td>-</td>\n      <td>Brown</td>\n      <td>185.0</td>\n      <td>DC Comics</td>\n      <td>-</td>\n      <td>bad</td>\n      <td>81.0</td>\n      <td>...</td>\n      <td>False</td>\n      <td>False</td>\n      <td>False</td>\n      <td>False</td>\n      <td>False</td>\n      <td>False</td>\n      <td>False</td>\n      <td>False</td>\n      <td>False</td>\n      <td>4</td>\n    </tr>\n  </tbody>\n</table>\n<p>484 rows × 178 columns</p>\n</div>"
     },
     "execution_count": 382,
     "metadata": {},
     "output_type": "execute_result"
    }
   ],
   "source": [
    "# Run this cell without changes\n",
    "question_2_df = heroes_and_powers_df[heroes_and_powers_df[\"Height\"] != -99.0].copy()\n",
    "question_2_df"
   ]
  },
  {
   "cell_type": "markdown",
   "metadata": {
    "pycharm": {
     "name": "#%% md\n"
    }
   },
   "source": [
    "### Answering the Question, Again\n",
    "\n",
    "Now we can redo that plot without those negative heights:"
   ]
  },
  {
   "cell_type": "code",
   "execution_count": 383,
   "metadata": {
    "pycharm": {
     "name": "#%%\n"
    }
   },
   "outputs": [
    {
     "data": {
      "text/plain": "<Figure size 1152x576 with 1 Axes>",
      "image/png": "[encoded data removed]"
     },
     "metadata": {
      "needs_background": "light"
     },
     "output_type": "display_data"
    }
   ],
   "source": [
    "# Run this cell without changes\n",
    "\n",
    "fig, ax = plt.subplots(figsize=(16, 8))\n",
    "\n",
    "ax.scatter(\n",
    "    x=question_2_df[\"Height\"],\n",
    "    y=question_2_df[\"Power Count\"],\n",
    "    alpha=0.3\n",
    ")\n",
    "\n",
    "ax.set_xlabel(\"Height (cm)\")\n",
    "ax.set_ylabel(\"Number of Superpowers\")\n",
    "ax.set_title(\"Height vs. Power Count\");"
   ]
  },
  {
   "cell_type": "markdown",
   "metadata": {
    "pycharm": {
     "name": "#%% md\n"
    }
   },
   "source": [
    "Ok, that makes more sense. It looks like there is not much of a relationship between height and number of superpowers.\n",
    "\n",
    "Now we can go on to answering the second half of question 2: *And does this differ based on gender?*\n",
    "\n",
    "To indicate multiple categories within a scatter plot, we can use color to add a third dimension:"
   ]
  },
  {
   "cell_type": "code",
   "execution_count": 384,
   "metadata": {
    "pycharm": {
     "name": "#%%\n"
    }
   },
   "outputs": [
    {
     "data": {
      "text/plain": "<Figure size 1152x576 with 1 Axes>",
      "image/png": "[encoded data removed]"
     },
     "metadata": {
      "needs_background": "light"
     },
     "output_type": "display_data"
    }
   ],
   "source": [
    "# Run this cell without changes\n",
    "\n",
    "fig, ax = plt.subplots(figsize=(16, 8))\n",
    "\n",
    "# Select subsets\n",
    "question_2_male = question_2_df[question_2_df[\"Gender\"] == \"Male\"]\n",
    "question_2_female = question_2_df[question_2_df[\"Gender\"] == \"Female\"]\n",
    "question_2_other = question_2_df[(question_2_df[\"Gender\"] != \"Male\") & (question_2_df[\"Gender\"] != \"Female\")]\n",
    "\n",
    "# Plot data with different colors\n",
    "ax.scatter(\n",
    "    x=question_2_male[\"Height\"],\n",
    "    y=question_2_male[\"Power Count\"],\n",
    "    alpha=0.5,\n",
    "    color=\"cyan\",\n",
    "    label=\"Male\"\n",
    ")\n",
    "ax.scatter(\n",
    "    x=question_2_female[\"Height\"],\n",
    "    y=question_2_female[\"Power Count\"],\n",
    "    alpha=0.5,\n",
    "    color=\"gray\",\n",
    "    label=\"Female\"\n",
    ")\n",
    "ax.scatter(\n",
    "    x=question_2_other[\"Height\"],\n",
    "    y=question_2_other[\"Power Count\"],\n",
    "    alpha=0.5,\n",
    "    color=\"yellow\",\n",
    "    label=\"Other\"\n",
    ")\n",
    "\n",
    "# Customize appearance\n",
    "ax.set_xlabel(\"Height (cm)\")\n",
    "ax.set_ylabel(\"Number of Superpowers\")\n",
    "ax.set_title(\"Height vs. Power Count\")\n",
    "ax.legend();"
   ]
  },
  {
   "cell_type": "markdown",
   "metadata": {
    "pycharm": {
     "name": "#%% md\n"
    }
   },
   "source": [
    "It appears that there is still no clear relationship between count of powers and height, regardless of gender. We do however note that \"Male\" is the most common gender, and that male superheroes tend to be taller, on average."
   ]
  },
  {
   "cell_type": "markdown",
   "metadata": {
    "pycharm": {
     "name": "#%% md\n"
    }
   },
   "source": [
    "## 4. Perform Data Aggregation Required to Answer Third Question\n",
    "\n",
    "Recall that the third question is: *What are the 5 most common superpowers in Marvel Comics vs. DC Comics?*\n",
    "\n",
    "We'll need to keep using `heroes_and_powers_df` since we require information from both `heroes_df` and `powers_df`.\n",
    "\n",
    "Your resulting `question_3_df` should contain aggregated data, with columns `Superpower Name`, `Marvel Comics` (containing the count of occurrences in Marvel Comics), and `DC Comics` (containing the count of occurrences in DC Comics). Each row should represent a superpower.\n",
    "\n",
    "In other words, `question_3_df` should look like this:\n",
    "\n",
    "![question 3 df](images/question_3.png)\n",
    "\n",
    "Don't worry if the rows or columns are in a different order, all that matters is that you have the right rows and columns with all the data.\n",
    "\n",
    "***Hint:*** refer to the [documentation for `.groupby`](https://pandas.pydata.org/pandas-docs/stable/reference/api/pandas.DataFrame.groupby.html) and treat each publisher as a group."
   ]
  },
  {
   "cell_type": "code",
   "execution_count": 409,
   "metadata": {
    "pycharm": {
     "name": "#%%\n"
    }
   },
   "outputs": [
    {
     "name": "stderr",
     "output_type": "stream",
     "text": [
      "C:\\Users\\pedro\\anaconda3\\envs\\learn-env\\lib\\site-packages\\pandas\\core\\frame.py:4163: SettingWithCopyWarning: \n",
      "A value is trying to be set on a copy of a slice from a DataFrame\n",
      "\n",
      "See the caveats in the documentation: https://pandas.pydata.org/pandas-docs/stable/user_guide/indexing.html#returning-a-view-versus-a-copy\n",
      "  return super().drop(\n"
     ]
    },
    {
     "data": {
      "text/plain": "Index(['Superpower Name', 'DC Comics', 'Marvel Comics'], dtype='object', name='Publisher')"
     },
     "execution_count": 409,
     "metadata": {},
     "output_type": "execute_result"
    }
   ],
   "source": [
    "grouped_heroes = heroes_and_powers_df.groupby(\"Publisher\").sum().reset_index()\n",
    "\n",
    "subset = grouped_heroes.loc[(grouped_heroes[\"Publisher\"] == \"DC Comics\") | (grouped_heroes[\"Publisher\"] == \"Marvel Comics\")]\n",
    "\n",
    "subset.drop(columns= [\"Height\", \"Weight\", \"Power Count\"], inplace= True)\n",
    "\n",
    "question_3_df = subset.set_index(\"Publisher\").T.reset_index()\n",
    "\n",
    "question_3_df.rename(columns = {'index':'Superpower Name'}, inplace = True)\n",
    "\n",
    "question_3_df.columns"
   ]
  },
  {
   "cell_type": "markdown",
   "metadata": {
    "pycharm": {
     "name": "#%% md\n"
    }
   },
   "source": [
    "The code below checks that you have the correct dataframe structure:"
   ]
  },
  {
   "cell_type": "code",
   "execution_count": 405,
   "metadata": {
    "pycharm": {
     "name": "#%%\n"
    }
   },
   "outputs": [],
   "source": [
    "# Run this cell without changes\n",
    "\n",
    "# Checking that you made a dataframe called question_3_df\n",
    "assert type(question_3_df) == pd.DataFrame\n",
    "\n",
    "# Checking the shape\n",
    "assert question_3_df.shape == (167, 3)\n",
    "\n",
    "# Checking the column names\n",
    "assert sorted(list(question_3_df.columns)) == ['DC Comics', 'Marvel Comics', 'Superpower Name']"
   ]
  },
  {
   "cell_type": "markdown",
   "metadata": {
    "pycharm": {
     "name": "#%% md\n"
    }
   },
   "source": [
    "### Answering the Question\n",
    "\n",
    "The code below uses the dataframe you created to find and plot the most common superpowers in Marvel Comics and DC Comics."
   ]
  },
  {
   "cell_type": "code",
   "execution_count": 406,
   "metadata": {
    "pycharm": {
     "name": "#%%\n"
    }
   },
   "outputs": [
    {
     "data": {
      "text/plain": "Publisher Superpower Name  Marvel Comics\n17         Super Strength            204\n5              Durability            154\n25                Stamina            150\n30            Super Speed            137\n0                 Agility            126",
      "text/html": "<div>\n<style scoped>\n    .dataframe tbody tr th:only-of-type {\n        vertical-align: middle;\n    }\n\n    .dataframe tbody tr th {\n        vertical-align: top;\n    }\n\n    .dataframe thead th {\n        text-align: right;\n    }\n</style>\n<table border=\"1\" class=\"dataframe\">\n  <thead>\n    <tr style=\"text-align: right;\">\n      <th>Publisher</th>\n      <th>Superpower Name</th>\n      <th>Marvel Comics</th>\n    </tr>\n  </thead>\n  <tbody>\n    <tr>\n      <th>17</th>\n      <td>Super Strength</td>\n      <td>204</td>\n    </tr>\n    <tr>\n      <th>5</th>\n      <td>Durability</td>\n      <td>154</td>\n    </tr>\n    <tr>\n      <th>25</th>\n      <td>Stamina</td>\n      <td>150</td>\n    </tr>\n    <tr>\n      <th>30</th>\n      <td>Super Speed</td>\n      <td>137</td>\n    </tr>\n    <tr>\n      <th>0</th>\n      <td>Agility</td>\n      <td>126</td>\n    </tr>\n  </tbody>\n</table>\n</div>"
     },
     "execution_count": 406,
     "metadata": {},
     "output_type": "execute_result"
    }
   ],
   "source": [
    "# Run this cell without changes\n",
    "\n",
    "marvel_most_common = question_3_df.drop(\"DC Comics\", axis=1)\n",
    "marvel_most_common = marvel_most_common.sort_values(by=\"Marvel Comics\", ascending=False)[:5]\n",
    "marvel_most_common"
   ]
  },
  {
   "cell_type": "code",
   "execution_count": 407,
   "metadata": {
    "pycharm": {
     "name": "#%%\n"
    }
   },
   "outputs": [
    {
     "data": {
      "text/plain": "Publisher Superpower Name  DC Comics\n17         Super Strength        109\n25                Stamina         90\n8                  Flight         86\n30            Super Speed         79\n5              Durability         71",
      "text/html": "<div>\n<style scoped>\n    .dataframe tbody tr th:only-of-type {\n        vertical-align: middle;\n    }\n\n    .dataframe tbody tr th {\n        vertical-align: top;\n    }\n\n    .dataframe thead th {\n        text-align: right;\n    }\n</style>\n<table border=\"1\" class=\"dataframe\">\n  <thead>\n    <tr style=\"text-align: right;\">\n      <th>Publisher</th>\n      <th>Superpower Name</th>\n      <th>DC Comics</th>\n    </tr>\n  </thead>\n  <tbody>\n    <tr>\n      <th>17</th>\n      <td>Super Strength</td>\n      <td>109</td>\n    </tr>\n    <tr>\n      <th>25</th>\n      <td>Stamina</td>\n      <td>90</td>\n    </tr>\n    <tr>\n      <th>8</th>\n      <td>Flight</td>\n      <td>86</td>\n    </tr>\n    <tr>\n      <th>30</th>\n      <td>Super Speed</td>\n      <td>79</td>\n    </tr>\n    <tr>\n      <th>5</th>\n      <td>Durability</td>\n      <td>71</td>\n    </tr>\n  </tbody>\n</table>\n</div>"
     },
     "execution_count": 407,
     "metadata": {},
     "output_type": "execute_result"
    }
   ],
   "source": [
    "# Run this cell without changes\n",
    "\n",
    "dc_most_common = question_3_df.drop(\"Marvel Comics\", axis=1)\n",
    "dc_most_common = dc_most_common.sort_values(by=\"DC Comics\", ascending=False)[:5]\n",
    "dc_most_common"
   ]
  },
  {
   "cell_type": "code",
   "execution_count": 408,
   "metadata": {
    "pycharm": {
     "name": "#%%\n"
    }
   },
   "outputs": [
    {
     "data": {
      "text/plain": "<Figure size 1080x360 with 2 Axes>",
      "image/png": "[encoded data removed]"
     },
     "metadata": {
      "needs_background": "light"
     },
     "output_type": "display_data"
    }
   ],
   "source": [
    "# Run this cell without changes\n",
    "\n",
    "fig, (ax1, ax2) = plt.subplots(ncols=2, figsize=(15, 5))\n",
    "\n",
    "ax1.bar(\n",
    "    x=marvel_most_common[\"Superpower Name\"],\n",
    "    height=marvel_most_common[\"Marvel Comics\"]\n",
    ")\n",
    "ax2.bar(\n",
    "    x=dc_most_common[\"Superpower Name\"],\n",
    "    height=dc_most_common[\"DC Comics\"]\n",
    ")\n",
    "\n",
    "ax1.set_ylabel(\"Count of Superheroes\")\n",
    "ax2.set_ylabel(\"Count of Superheroes\")\n",
    "ax1.set_title(\"Frequency of Top Superpowers in Marvel Comics\")\n",
    "ax2.set_title(\"Frequency of Top Superpowers in DC Comics\");"
   ]
  },
  {
   "cell_type": "markdown",
   "metadata": {
    "pycharm": {
     "name": "#%% md\n"
    }
   },
   "source": [
    "It looks like super strength is the most popular power in both Marvel Comics and DC Comics. Overall, the top 5 powers are fairly similar — 4 out of 5 overlap, although Marvel contains agility whereas DC contains flight."
   ]
  },
  {
   "cell_type": "markdown",
   "metadata": {
    "pycharm": {
     "name": "#%% md\n"
    }
   },
   "source": [
    "## 5. Formulate and Answer Your Own Question\n",
    "\n",
    "For the remainder of this lab, you'll be focusing on coming up with and answering your own question, just like we did above.  Your question should not be overly simple, and should require both descriptive statistics and data visualization to answer.  In case you're unsure of what questions to ask, some sample questions have been provided below.\n",
    "\n",
    "Pick one of the following questions to investigate and answer, or come up with one of your own!\n",
    "\n",
    "* Which powers have the highest chance of co-occurring in a hero (e.g. super strength and flight)?\n",
    "* What is the distribution of skin colors amongst alien heroes?\n",
    "* How are eye color and hair color related in this dataset?\n",
    "\n",
    "Explain your question below:"
   ]
  },
  {
   "cell_type": "markdown",
   "metadata": {
    "pycharm": {
     "name": "#%% md\n"
    }
   },
   "source": [
    "Some sample cells have been provided to give you room to work. Feel free to create more cells as needed.\n",
    "\n",
    "Be sure to include thoughtful, well-labeled visualizations to back up your analysis!\n",
    "\n",
    "(There is no solution branch for this part, and feel free to move on to the next lesson if you have already spent more than 90 minutes.)"
   ]
  },
  {
   "cell_type": "markdown",
   "metadata": {
    "pycharm": {
     "name": "#%% md\n"
    }
   },
   "source": [
    "## Summary\n",
    "\n",
    "In this lab, you demonstrated your mastery of using pandas to clean and aggregate data in order to answer several business questions. This included identifying and handling missing values, text requiring preprocessing, and invalid values. You also performed aggregation and reshaping tasks such as transposing, joining, and grouping data. Great job, there was a lot here!"
   ]
  }
 ],
 "metadata": {
  "kernelspec": {
   "display_name": "Python 3",
   "language": "python",
   "name": "python3"
  },
  "language_info": {
   "codemirror_mode": {
    "name": "ipython",
    "version": 3
   },
   "file_extension": ".py",
   "mimetype": "text/x-python",
   "name": "python",
   "nbconvert_exporter": "python",
   "pygments_lexer": "ipython3",
   "version": "3.8.5"
  }
 },
 "nbformat": 4,
 "nbformat_minor": 2
}